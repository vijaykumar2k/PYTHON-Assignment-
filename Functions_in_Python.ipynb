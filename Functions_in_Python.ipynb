{
  "nbformat": 4,
  "nbformat_minor": 0,
  "metadata": {
    "colab": {
      "provenance": []
    },
    "kernelspec": {
      "name": "python3",
      "display_name": "Python 3"
    },
    "language_info": {
      "name": "python"
    }
  },
  "cells": [
    {
      "cell_type": "code",
      "execution_count": null,
      "metadata": {
        "id": "hpIyPI5Hz3MT"
      },
      "outputs": [],
      "source": [
        "# Functions\n",
        "# Block of code => repetitive usage\n",
        "# Code redable, code reusability\n",
        "\n",
        "\n",
        "# Type Of Functions\n",
        "# => User Defined Functions\n",
        "# => Built in Functions"
      ]
    },
    {
      "cell_type": "code",
      "source": [
        "# User Defined Functions\n",
        "\n",
        "'''\n",
        "int void(){\n",
        "  logic\n",
        "}\n",
        "\n",
        "def function_name():\n",
        "  logic\n",
        "'''"
      ],
      "metadata": {
        "id": "ktimVZBc07vE"
      },
      "execution_count": null,
      "outputs": []
    },
    {
      "cell_type": "code",
      "source": [
        "def greeting():\n",
        "  print(\"hey user I welcome you onboard\")\n",
        "\n",
        "greeting()"
      ],
      "metadata": {
        "colab": {
          "base_uri": "https://localhost:8080/"
        },
        "id": "k4NuNxfI2p15",
        "outputId": "ea935eb6-3ec6-4e98-b193-5f38954142e1"
      },
      "execution_count": null,
      "outputs": [
        {
          "output_type": "stream",
          "name": "stdout",
          "text": [
            "hey user I welcome you onboard\n"
          ]
        }
      ]
    },
    {
      "cell_type": "code",
      "source": [
        "def greeting(z):     # Parameter / Formal Perameter / Informal Argument\n",
        "  print(\"hey\", z ,\"I welcome you onboard\")\n",
        "\n",
        "greeting(\"Vijay\")   # Argument"
      ],
      "metadata": {
        "colab": {
          "base_uri": "https://localhost:8080/"
        },
        "id": "KPlgKVzP3MGF",
        "outputId": "0fff2e08-c397-402d-a33f-000b5d2e2b2b"
      },
      "execution_count": null,
      "outputs": [
        {
          "output_type": "stream",
          "name": "stdout",
          "text": [
            "hey Vijay I welcome you onboard\n"
          ]
        }
      ]
    },
    {
      "cell_type": "code",
      "source": [
        "def factors(num):\n",
        "    for i in range(1, num + 1):\n",
        "        if num % i == 0:\n",
        "            print(\"factor of\", num, \"is\", i)\n",
        "\n",
        "factors(12)"
      ],
      "metadata": {
        "colab": {
          "base_uri": "https://localhost:8080/"
        },
        "id": "m_SYrWqN4dNE",
        "outputId": "41928457-7277-48b1-a3dd-d15ff6f1eff7"
      },
      "execution_count": null,
      "outputs": [
        {
          "output_type": "stream",
          "name": "stdout",
          "text": [
            "factor of 12 is 1\n",
            "factor of 12 is 2\n",
            "factor of 12 is 3\n",
            "factor of 12 is 4\n",
            "factor of 12 is 6\n",
            "factor of 12 is 12\n"
          ]
        }
      ]
    },
    {
      "cell_type": "code",
      "source": [
        "# Types of Argument passing\n",
        "\n",
        "def func (id , name , salary):\n",
        "  print(f\"id is {id} name is {name} and salary is {salary}\")\n",
        "\n",
        "func(1, \"Vijay\",30000)    # required argument => parameter  = = value / argument\n",
        "\n",
        "func(\"Vijay\",1, 30000)    # Position  of argument matters here\n",
        "\n",
        "func(name = \"Vijay\",id = 1, salary = 30000) # keyword argument"
      ],
      "metadata": {
        "colab": {
          "base_uri": "https://localhost:8080/"
        },
        "id": "-wBKWh9N5J7Y",
        "outputId": "5550e096-26c5-49e7-ac44-035bd3d2da37"
      },
      "execution_count": null,
      "outputs": [
        {
          "output_type": "stream",
          "name": "stdout",
          "text": [
            "id is 1 name is Vijay and salary is 30000\n",
            "id is Vijay name is 1 and salary is 30000\n",
            "id is 1 name is Vijay and salary is 30000\n"
          ]
        }
      ]
    },
    {
      "cell_type": "code",
      "source": [
        "def func (id , name , salary):\n",
        "  print(f\"id is {id} name is {name} and salary is {salary}\")\n",
        "\n",
        "func(10, salary = 10000 , name = \"Roy\")"
      ],
      "metadata": {
        "colab": {
          "base_uri": "https://localhost:8080/"
        },
        "id": "8AOMxUfddRhQ",
        "outputId": "4fddd7c3-8d88-4407-c695-dfa0675582cd"
      },
      "execution_count": null,
      "outputs": [
        {
          "output_type": "stream",
          "name": "stdout",
          "text": [
            "id is 10 name is Roy and salary is 10000\n"
          ]
        }
      ]
    },
    {
      "cell_type": "code",
      "source": [
        "def func (id , name , salary = 9852):       # default perameter\n",
        "  print(f\"id is {id} name is {name} and salary is {salary}\")\n",
        "\n",
        "func(10, name = \"Roy\")\n",
        "func(10, name = \"Roy\" , salary = 857)"
      ],
      "metadata": {
        "colab": {
          "base_uri": "https://localhost:8080/"
        },
        "id": "R_ojcnFEdoQ1",
        "outputId": "6031bcda-5c04-411f-8728-7c8d4c083337"
      },
      "execution_count": null,
      "outputs": [
        {
          "output_type": "stream",
          "name": "stdout",
          "text": [
            "id is 10 name is Roy and salary is 9852\n",
            "id is 10 name is Roy and salary is 857\n"
          ]
        }
      ]
    },
    {
      "cell_type": "code",
      "source": [
        "# Return Vs Print in the function\n",
        "# LCM of 3 number => 2,4,7  => (4,7)\n",
        "\n",
        "def func (x):\n",
        "  return  (x + 10)\n",
        "\n",
        "\n",
        "a = func (5)\n",
        "print (\"a\" ,a)"
      ],
      "metadata": {
        "colab": {
          "base_uri": "https://localhost:8080/"
        },
        "id": "KRs4W1qUedFY",
        "outputId": "8dc1374f-e95e-4eae-f859-b27e7cb1f420"
      },
      "execution_count": null,
      "outputs": [
        {
          "output_type": "stream",
          "name": "stdout",
          "text": [
            "a 15\n"
          ]
        }
      ]
    },
    {
      "cell_type": "code",
      "source": [
        "def facebook (*args):       # tuple arguments\n",
        "  print(args)\n",
        "\n",
        "\n",
        "facebook (\"tushar\")\n",
        "facebook (\"tushar\", \"abc\")\n",
        "facebook (\"tushar\", \"single\" , \"naina\")"
      ],
      "metadata": {
        "colab": {
          "base_uri": "https://localhost:8080/"
        },
        "id": "xU5u4A88T0vK",
        "outputId": "14e7b57c-4450-41b0-f5a9-b900bddbf190"
      },
      "execution_count": null,
      "outputs": [
        {
          "output_type": "stream",
          "name": "stdout",
          "text": [
            "('tushar',)\n",
            "('tushar', 'abc')\n",
            "('tushar', 'single', 'naina')\n"
          ]
        }
      ]
    },
    {
      "cell_type": "code",
      "source": [
        "def facebook (**kwargs):       # keyword variable length argument\n",
        "  print(kwargs)\n",
        "\n",
        "\n",
        "facebook (name = \"tushar\")\n",
        "facebook (name = \"tushar\", college = \"abc\")\n",
        "facebook (name = \"tushar\", college = \"abc\" , age = 20)"
      ],
      "metadata": {
        "colab": {
          "base_uri": "https://localhost:8080/"
        },
        "id": "gFJJXZIuT0r6",
        "outputId": "02f4cae7-cf3e-4349-8101-521e3795bd41"
      },
      "execution_count": null,
      "outputs": [
        {
          "output_type": "stream",
          "name": "stdout",
          "text": [
            "{'name': 'tushar'}\n",
            "{'name': 'tushar', 'college': 'abc'}\n",
            "{'name': 'tushar', 'college': 'abc', 'age': 20}\n"
          ]
        }
      ]
    },
    {
      "cell_type": "code",
      "source": [
        "# Discuss lambda Functions\n",
        "# lambda function => one line function\n",
        "# Annymous function\n",
        "# becouse they dont have the name"
      ],
      "metadata": {
        "id": "m9-3pVriT0p8"
      },
      "execution_count": null,
      "outputs": []
    },
    {
      "cell_type": "code",
      "source": [
        "def func(x):\n",
        "  print(x + 10)\n",
        "\n",
        "func(15)"
      ],
      "metadata": {
        "colab": {
          "base_uri": "https://localhost:8080/"
        },
        "id": "FvgbiXkhT0oE",
        "outputId": "65dec671-e008-4299-a0a8-d876af674d03"
      },
      "execution_count": null,
      "outputs": [
        {
          "output_type": "stream",
          "name": "stdout",
          "text": [
            "25\n"
          ]
        }
      ]
    },
    {
      "cell_type": "code",
      "source": [
        "def func(x):\n",
        "  print(x + 10)\n",
        "  return 1000000\n",
        "\n",
        "out = func(15)\n",
        "print(\"after function:\" ,out)"
      ],
      "metadata": {
        "colab": {
          "base_uri": "https://localhost:8080/"
        },
        "id": "ZgwV5cLFf6Lq",
        "outputId": "89aeb5a4-763b-470b-fdba-a720acc85d3e"
      },
      "execution_count": null,
      "outputs": [
        {
          "output_type": "stream",
          "name": "stdout",
          "text": [
            "25\n",
            "after function: 1000000\n"
          ]
        }
      ]
    },
    {
      "cell_type": "code",
      "source": [
        "(lambda x: x+10) (20)"
      ],
      "metadata": {
        "colab": {
          "base_uri": "https://localhost:8080/"
        },
        "id": "dy61dhCDf6FZ",
        "outputId": "a2842887-c4a9-4d48-8cf0-cbe97fde0086"
      },
      "execution_count": null,
      "outputs": [
        {
          "output_type": "execute_result",
          "data": {
            "text/plain": [
              "30"
            ]
          },
          "metadata": {},
          "execution_count": 7
        }
      ]
    },
    {
      "cell_type": "code",
      "source": [
        "a = lambda x: x+10\n",
        "a(20)\n",
        "\n",
        "# lambda peramaeter : expression"
      ],
      "metadata": {
        "colab": {
          "base_uri": "https://localhost:8080/"
        },
        "id": "XkOvaMJ3f6C1",
        "outputId": "f142bfe2-c6b9-43c3-b5ef-4aaa17c75bff"
      },
      "execution_count": null,
      "outputs": [
        {
          "output_type": "execute_result",
          "data": {
            "text/plain": [
              "30"
            ]
          },
          "metadata": {},
          "execution_count": 8
        }
      ]
    },
    {
      "cell_type": "code",
      "source": [
        "def func(s):\n",
        "  num = s.split(\" \")\n",
        "  for i in num:\n",
        "    print (i)"
      ],
      "metadata": {
        "id": "3kEgBtGdf5_V"
      },
      "execution_count": null,
      "outputs": []
    },
    {
      "cell_type": "code",
      "source": [
        "def func(s):\n",
        "  num = s.split(\" \")\n",
        "  for i in num :\n",
        "    print (i,i[0:2])"
      ],
      "metadata": {
        "id": "JEnTTcH-ixvB"
      },
      "execution_count": null,
      "outputs": []
    },
    {
      "cell_type": "code",
      "source": [
        "a = lambda x: x[0:2]\n",
        "for i in \"hey hello user how are you\".split(\" \"):\n",
        "  print(i)\n",
        "  print(a(i))"
      ],
      "metadata": {
        "colab": {
          "base_uri": "https://localhost:8080/"
        },
        "id": "subIlEvnixj5",
        "outputId": "8d19cfa3-db3c-4518-91cc-629c615dd57f"
      },
      "execution_count": null,
      "outputs": [
        {
          "output_type": "stream",
          "name": "stdout",
          "text": [
            "hey\n",
            "he\n",
            "hello\n",
            "he\n",
            "user\n",
            "us\n",
            "how\n",
            "ho\n",
            "are\n",
            "ar\n",
            "you\n",
            "yo\n"
          ]
        }
      ]
    },
    {
      "cell_type": "code",
      "source": [
        "s = \"hey hello user\"\n",
        "func(s)"
      ],
      "metadata": {
        "colab": {
          "base_uri": "https://localhost:8080/"
        },
        "id": "jN9FQot2h8ZW",
        "outputId": "139d7914-58b4-4644-dc71-f42c3be17123"
      },
      "execution_count": null,
      "outputs": [
        {
          "output_type": "stream",
          "name": "stdout",
          "text": [
            "hey\n",
            "hello\n",
            "user\n"
          ]
        }
      ]
    },
    {
      "cell_type": "code",
      "source": [
        "nums = [2, 5, 7]\n",
        "result = [[x] for x in nums if x == 2]\n",
        "print(result)\n"
      ],
      "metadata": {
        "colab": {
          "base_uri": "https://localhost:8080/"
        },
        "id": "XB2uMV4jh8Vx",
        "outputId": "dd0d90e9-89c8-4aae-a91c-0da30ada5efe"
      },
      "execution_count": null,
      "outputs": [
        {
          "output_type": "stream",
          "name": "stdout",
          "text": [
            "[[2]]\n"
          ]
        }
      ]
    },
    {
      "cell_type": "code",
      "source": [
        "def func():\n",
        "  print (\"Vijay Kumar\")\n",
        "\n",
        "a = func()\n",
        "print(\"a=>\",a)"
      ],
      "metadata": {
        "colab": {
          "base_uri": "https://localhost:8080/"
        },
        "id": "0GSRVytniHTw",
        "outputId": "1729813f-11a7-4e2f-f166-55ff7fd5ea1a"
      },
      "execution_count": null,
      "outputs": [
        {
          "output_type": "stream",
          "name": "stdout",
          "text": [
            "Vijay Kumar\n",
            "a=> None\n"
          ]
        }
      ]
    },
    {
      "cell_type": "code",
      "source": [
        "def func():\n",
        "  print (\"Vijay Kumar\")\n",
        "\n",
        "a = func        # memory of func is assigneded to a\n",
        "print(\"a=>\",a)\n",
        "a()     # first class functions"
      ],
      "metadata": {
        "colab": {
          "base_uri": "https://localhost:8080/"
        },
        "id": "YtrddKkVnlLU",
        "outputId": "ba46e086-a590-4126-da84-90b02288f9e5"
      },
      "execution_count": null,
      "outputs": [
        {
          "output_type": "stream",
          "name": "stdout",
          "text": [
            "a=> <function func at 0x7b51b7203560>\n",
            "Vijay Kumar\n"
          ]
        }
      ]
    },
    {
      "cell_type": "code",
      "source": [
        "# High Order Function : High Order Function  =>\n",
        "# jo kisi dushre function ko as argument accept karerga\n",
        "\n",
        "\n",
        "\n",
        "\n",
        "def square(num):\n",
        "  print(num**2)\n",
        "\n",
        "x = square\n",
        "print(x)"
      ],
      "metadata": {
        "id": "PNmN9H4sn3ri",
        "colab": {
          "base_uri": "https://localhost:8080/"
        },
        "outputId": "67820fbe-26c7-4deb-d972-6d5f518a7354"
      },
      "execution_count": 2,
      "outputs": [
        {
          "output_type": "stream",
          "name": "stdout",
          "text": [
            "<function square at 0x7c4df1f17560>\n"
          ]
        }
      ]
    },
    {
      "cell_type": "code",
      "source": [
        "def power4(a,b):\n",
        "  print(a,b)\n",
        "\n",
        "x = square\n",
        "print(x)"
      ],
      "metadata": {
        "colab": {
          "base_uri": "https://localhost:8080/"
        },
        "id": "_9NxN-nXmpaU",
        "outputId": "265880ba-1b3d-4ba2-e399-de9751b4d40c"
      },
      "execution_count": 3,
      "outputs": [
        {
          "output_type": "stream",
          "name": "stdout",
          "text": [
            "<function square at 0x7c4df1f17560>\n"
          ]
        }
      ]
    },
    {
      "cell_type": "code",
      "source": [
        "def square(num):\n",
        "  print(num**2)\n",
        "\n",
        "def power4(a,b):\n",
        "  print(a,b)\n",
        "\n",
        "power4(10,square(10))"
      ],
      "metadata": {
        "colab": {
          "base_uri": "https://localhost:8080/"
        },
        "id": "AlvlZNC-mpRY",
        "outputId": "be8716ff-9749-48bd-adb2-1aa8ea3e8241"
      },
      "execution_count": 6,
      "outputs": [
        {
          "output_type": "stream",
          "name": "stdout",
          "text": [
            "100\n",
            "10 None\n"
          ]
        }
      ]
    },
    {
      "cell_type": "code",
      "source": [
        "def square(num):\n",
        "  print(num**2)\n",
        "\n",
        "def power4(a,b):\n",
        "  print(a,b)    #b ia same as of square\n",
        "  print(\"function call =>\" , b(4))        # b() ==  square()\n",
        "\n",
        "power4(10,square)"
      ],
      "metadata": {
        "colab": {
          "base_uri": "https://localhost:8080/"
        },
        "id": "aL9-T9WGng4_",
        "outputId": "7d54fcff-5991-48f4-be4f-6ee7a64f468a"
      },
      "execution_count": 7,
      "outputs": [
        {
          "output_type": "stream",
          "name": "stdout",
          "text": [
            "10 <function square at 0x7c4db6d920c0>\n",
            "16\n",
            "function call => None\n"
          ]
        }
      ]
    },
    {
      "cell_type": "code",
      "source": [
        "def square(num):\n",
        "  return num**2\n",
        "\n",
        "def power4(a, b):\n",
        "  print(a, b, b(a))    #b ia same as of square\n",
        "  print(\"function call =>\", b(a) * b(a))    # b(a) ==  square(a) b(4) * b(4)\n",
        "\n",
        "power4(4, square)\n"
      ],
      "metadata": {
        "colab": {
          "base_uri": "https://localhost:8080/"
        },
        "id": "KHnchrJNng1c",
        "outputId": "e2e8b805-e1f8-42f8-ec84-2b74580ddf45"
      },
      "execution_count": 10,
      "outputs": [
        {
          "output_type": "stream",
          "name": "stdout",
          "text": [
            "4 <function square at 0x7c4db6e3fec0> 16\n",
            "function call => 256\n"
          ]
        }
      ]
    }
  ]
}