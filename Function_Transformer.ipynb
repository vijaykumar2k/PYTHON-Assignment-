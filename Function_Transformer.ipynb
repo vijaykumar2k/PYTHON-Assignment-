{
  "cells": [
    {
      "cell_type": "code",
      "execution_count": null,
      "metadata": {
        "id": "HefTkXgDV_Hx"
      },
      "outputs": [],
      "source": [
        "# Function Transformer ------> If you waant to apply any operation (pre-defined,custom)\n",
        "# we can use Function Transformer.\n",
        "\n",
        "# FunctionTransformer(<logic_name>.transform<data>)"
      ]
    },
    {
      "cell_type": "code",
      "execution_count": null,
      "metadata": {
        "colab": {
          "base_uri": "https://localhost:8080/"
        },
        "id": "euz-5FiEWD03",
        "outputId": "4ba1b52c-1ed4-44d8-d3df-a23f8dfa6d28"
      },
      "outputs": [
        {
          "name": "stdout",
          "output_type": "stream",
          "text": [
            "[[1 2]\n",
            " [3 4]]\n",
            "[[1.         1.41421356]\n",
            " [1.73205081 2.        ]]\n"
          ]
        }
      ],
      "source": [
        "from sklearn.preprocessing import FunctionTransformer\n",
        "import numpy as np\n",
        "\n",
        "#create datasheet\n",
        "x= np.array([[1,2],[3,4]])\n",
        "print(x)\n",
        "# # define the transformation function\n",
        "log_transform = FunctionTransformer(np.sqrt)\n",
        "\n",
        "# # apply the transformation to the dataset\n",
        "X_transformed = log_transform.transform(x)\n",
        "\n",
        "# # view the transformed data\n",
        "print(X_transformed)"
      ]
    },
    {
      "cell_type": "code",
      "execution_count": null,
      "metadata": {
        "colab": {
          "base_uri": "https://localhost:8080/"
        },
        "id": "EY9IhpC5WDxg",
        "outputId": "dc998701-6cf9-4d72-c700-b5d1888cfa06"
      },
      "outputs": [
        {
          "name": "stdout",
          "output_type": "stream",
          "text": [
            "[[ 1  2  1  4]\n",
            " [ 3  4  9 16]]\n"
          ]
        }
      ],
      "source": [
        "# Practical Uses\n",
        "\n",
        "# 1. Custom Feature Engineering\n",
        "# Create a dataset\n",
        "X = np.array([[1,2],[3,4]])\n",
        "\n",
        "# define a custom feature engineering function\n",
        "def squ(X):\n",
        "  return np.hstack((X, X**2))\n",
        "\n",
        "# create a FunctionTransformer to apply the custom function\n",
        "custom_transformer = FunctionTransformer(squ)\n",
        "\n",
        "# apply the transformer to the use input data\n",
        "X_transformed = custom_transformer.transform(X)\n",
        "\n",
        "# view the transformed data\n",
        "print(X_transformed)"
      ]
    },
    {
      "cell_type": "code",
      "execution_count": null,
      "metadata": {
        "colab": {
          "base_uri": "https://localhost:8080/"
        },
        "id": "3S2WEVxqWDvi",
        "outputId": "2d87c452-80fd-4135-b5dc-5ffc1f1e11ea"
      },
      "outputs": [
        {
          "name": "stdout",
          "output_type": "stream",
          "text": [
            "[[0.25 0.5 ]\n",
            " [0.75 1.  ]]\n"
          ]
        }
      ],
      "source": [
        "# 2. Scalling And Normalization\n",
        "# create a dataset\n",
        "X = np.array([[1,2],[3,4]])\n",
        "\n",
        "# define a custom scaling function\n",
        "def my_scaling(X):\n",
        "  return X / np.max(X)\n",
        "\n",
        "# create a FunctionTransformer to apply thr custom function\n",
        "custom_transformer = FunctionTransformer(my_scaling)\n",
        "\n",
        "# apply the transformer to the input data\n",
        "X_transformed = custom_transformer.transform(X)\n",
        "\n",
        "# view the transformed data\n",
        "print(X_transformed)"
      ]
    },
    {
      "cell_type": "code",
      "execution_count": null,
      "metadata": {
        "id": "dXYn-T9OWDth"
      },
      "outputs": [],
      "source": [
        "# Column Transformer ----->\n",
        "# Containr --------> steps of process --------->\n",
        "# Transformer ---------> ('constant','Operation_Name','Column_Name')\n",
        "\n",
        "# Dr ---> 1-1 Single Column --->\n",
        "# 1-1 column ----->  Shape ----> all column shape concatenate ----> output\n",
        "\n",
        "# column transformer -----> all column shape concatenate ---> output ---> same"
      ]
    },
    {
      "cell_type": "code",
      "execution_count": null,
      "metadata": {
        "id": "gd_nMps8WDrb"
      },
      "outputs": [],
      "source": [
        "import numpy as np\n",
        "import pandas as pd"
      ]
    },
    {
      "cell_type": "code",
      "execution_count": null,
      "metadata": {
        "id": "2BhQDs2gWDpQ"
      },
      "outputs": [],
      "source": [
        "# df = pd.read_csv('/content/covid_toy.csv')\n",
        "# df.head(2)"
      ]
    },
    {
      "cell_type": "code",
      "execution_count": null,
      "metadata": {
        "id": "T5PjBVmtWQzW"
      },
      "outputs": [],
      "source": [
        "# Decorator\n",
        "# Decorator ----------> A design pattern that allows modifying the behavior of a function.\n"
      ]
    },
    {
      "cell_type": "code",
      "execution_count": null,
      "metadata": {
        "colab": {
          "base_uri": "https://localhost:8080/"
        },
        "id": "iAKOyNecWQv-",
        "outputId": "710d7764-ed0d-44e6-b1d1-0ac2b0a93f10"
      },
      "outputs": [
        {
          "name": "stdout",
          "output_type": "stream",
          "text": [
            "outer function print => 100\n",
            "x: <function outerfunc.<locals>.innerfunc at 0x792256333240>\n",
            "hey inner function 100\n"
          ]
        }
      ],
      "source": [
        "def outerfunc(num):\n",
        "  print(\"outer function print =>\" , num)\n",
        "  def innerfunc():\n",
        "    print(\"hey inner function\",num)\n",
        "\n",
        "  return innerfunc\n",
        "\n",
        "x=outerfunc(100)\n",
        "print(\"x:\",x)\n",
        "x()"
      ]
    },
    {
      "cell_type": "code",
      "execution_count": null,
      "metadata": {
        "colab": {
          "base_uri": "https://localhost:8080/"
        },
        "id": "faCh8zKRWWLN",
        "outputId": "4b736498-7922-40e3-8673-ac417faf8585"
      },
      "outputs": [
        {
          "name": "stdout",
          "output_type": "stream",
          "text": [
            "hhh\n",
            "hey inner function <function test at 0x792256333a60>\n",
            "TEST FUNCTION IS HERE\n"
          ]
        }
      ],
      "source": [
        "def outerfunc(num):\n",
        "    print(\"hhh\")\n",
        "    def innerfunc():\n",
        "        print(\"hey inner function\",num)\n",
        "        test_r = num()                          #num() called test()\n",
        "        print( test_r.upper() )\n",
        "    return innerfunc\n",
        "\n",
        "@outerfunc\n",
        "def test():\n",
        "    return (\"test function is here\")\n",
        "\n",
        "\n",
        "test()"
      ]
    }
  ],
  "metadata": {
    "colab": {
      "provenance": []
    },
    "kernelspec": {
      "display_name": "Python 3",
      "name": "python3"
    },
    "language_info": {
      "name": "python"
    }
  },
  "nbformat": 4,
  "nbformat_minor": 0
}