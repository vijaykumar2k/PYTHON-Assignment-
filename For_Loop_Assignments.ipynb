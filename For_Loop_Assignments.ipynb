{
  "nbformat": 4,
  "nbformat_minor": 0,
  "metadata": {
    "colab": {
      "provenance": []
    },
    "kernelspec": {
      "name": "python3",
      "display_name": "Python 3"
    },
    "language_info": {
      "name": "python"
    }
  },
  "cells": [
    {
      "cell_type": "code",
      "execution_count": 1,
      "metadata": {
        "colab": {
          "base_uri": "https://localhost:8080/"
        },
        "id": "Z44pFTYhUzXk",
        "outputId": "311d4f21-3d6b-4bdf-b96e-949469c3369c"
      },
      "outputs": [
        {
          "output_type": "stream",
          "name": "stdout",
          "text": [
            "1\n",
            "2\n",
            "3\n",
            "4\n",
            "5\n",
            "6\n",
            "7\n",
            "8\n",
            "9\n",
            "10\n"
          ]
        }
      ],
      "source": [
        "n = 10\n",
        "for i in range(1, n+1):\n",
        "    print(i)\n"
      ]
    },
    {
      "cell_type": "code",
      "source": [
        "n = int(input(\"Enter n: \"))\n",
        "for i in range(n, 0, -1):\n",
        "    print(i)\n"
      ],
      "metadata": {
        "colab": {
          "base_uri": "https://localhost:8080/"
        },
        "id": "LG3-yb3VV_ek",
        "outputId": "048fd238-32d7-417d-960c-d33b3f823d3e"
      },
      "execution_count": 8,
      "outputs": [
        {
          "output_type": "stream",
          "name": "stdout",
          "text": [
            "Enter n: 22\n",
            "22\n",
            "21\n",
            "20\n",
            "19\n",
            "18\n",
            "17\n",
            "16\n",
            "15\n",
            "14\n",
            "13\n",
            "12\n",
            "11\n",
            "10\n",
            "9\n",
            "8\n",
            "7\n",
            "6\n",
            "5\n",
            "4\n",
            "3\n",
            "2\n",
            "1\n"
          ]
        }
      ]
    },
    {
      "cell_type": "code",
      "source": [
        "for i in range(97, 123):\n",
        "    print(chr(i),end =\" \")\n"
      ],
      "metadata": {
        "colab": {
          "base_uri": "https://localhost:8080/"
        },
        "id": "5rRvWM7XV_VN",
        "outputId": "8f6684cb-7782-466b-8f67-8f94114ac620"
      },
      "execution_count": 10,
      "outputs": [
        {
          "output_type": "stream",
          "name": "stdout",
          "text": [
            "a b c d e f g h i j k l m n o p q r s t u v w x y z "
          ]
        }
      ]
    },
    {
      "cell_type": "code",
      "source": [
        "for i in range(1, 101):\n",
        "    if i % 2 == 0:\n",
        "        print((i),end = \" \")\n"
      ],
      "metadata": {
        "colab": {
          "base_uri": "https://localhost:8080/"
        },
        "id": "iG1ZZ4utV_LP",
        "outputId": "eb433f94-ee5d-4bc1-9888-b035b8965ae5"
      },
      "execution_count": 12,
      "outputs": [
        {
          "output_type": "stream",
          "name": "stdout",
          "text": [
            "2 4 6 8 10 12 14 16 18 20 22 24 26 28 30 32 34 36 38 40 42 44 46 48 50 52 54 56 58 60 62 64 66 68 70 72 74 76 78 80 82 84 86 88 90 92 94 96 98 100 "
          ]
        }
      ]
    },
    {
      "cell_type": "code",
      "source": [
        "n = int(input(\"Enter n: \"))\n",
        "s = 0\n",
        "for i in range(1, n+1):\n",
        "    if i % 2 != 0:\n",
        "        s += i\n",
        "print(\"Sum =\", s)\n"
      ],
      "metadata": {
        "colab": {
          "base_uri": "https://localhost:8080/"
        },
        "id": "TjFSKaljV-gf",
        "outputId": "52e9d059-8ecf-482f-bd55-d2bbe2178ac5"
      },
      "execution_count": 14,
      "outputs": [
        {
          "output_type": "stream",
          "name": "stdout",
          "text": [
            "Enter n: 2\n",
            "Sum = 1\n"
          ]
        }
      ]
    },
    {
      "cell_type": "code",
      "source": [
        "n = input(\"Enter number: \")\n",
        "count = 0\n",
        "for i in n:\n",
        "    count += 1\n",
        "print(\"Digits =\", count)\n"
      ],
      "metadata": {
        "colab": {
          "base_uri": "https://localhost:8080/"
        },
        "id": "ckWkRR6SV-dz",
        "outputId": "eb551cf5-b6a9-4f28-c6eb-b0bb695ef567"
      },
      "execution_count": 15,
      "outputs": [
        {
          "output_type": "stream",
          "name": "stdout",
          "text": [
            "Enter number: 23\n",
            "Digits = 2\n"
          ]
        }
      ]
    },
    {
      "cell_type": "code",
      "source": [
        "n = input(\"Enter number: \")\n",
        "s = 0\n",
        "for i in n:\n",
        "    s += int(i)\n",
        "print(\"Sum =\", s)\n"
      ],
      "metadata": {
        "colab": {
          "base_uri": "https://localhost:8080/"
        },
        "id": "K8GQhV83V-bB",
        "outputId": "b54ba91d-fad4-4464-8958-de904e15d278"
      },
      "execution_count": 16,
      "outputs": [
        {
          "output_type": "stream",
          "name": "stdout",
          "text": [
            "Enter number: 235\n",
            "Sum = 10\n"
          ]
        }
      ]
    },
    {
      "cell_type": "code",
      "source": [
        "n = input(\"Enter number: \")\n",
        "print(\"First =\", n[0])\n",
        "print(\"Last =\", n[-1])\n"
      ],
      "metadata": {
        "colab": {
          "base_uri": "https://localhost:8080/"
        },
        "id": "POepXjvIVnRC",
        "outputId": "1f3495e3-afb3-48c1-b641-dc5965acb8d9"
      },
      "execution_count": 7,
      "outputs": [
        {
          "output_type": "stream",
          "name": "stdout",
          "text": [
            "Enter number: 8369\n",
            "First = 8\n",
            "Last = 9\n"
          ]
        }
      ]
    },
    {
      "cell_type": "code",
      "source": [
        "n = input(\"Enter number: \")\n",
        "f = int(n[0])\n",
        "l = int(n[-1])\n",
        "print(\"Sum =\", f + l)\n"
      ],
      "metadata": {
        "colab": {
          "base_uri": "https://localhost:8080/"
        },
        "id": "9FnkCxLkWrhZ",
        "outputId": "54758718-378b-441c-97e9-3f2bec7a73f7"
      },
      "execution_count": 18,
      "outputs": [
        {
          "output_type": "stream",
          "name": "stdout",
          "text": [
            "Enter number: 5698\n",
            "Sum = 13\n"
          ]
        }
      ]
    },
    {
      "cell_type": "code",
      "source": [
        "n = input(\"Enter number: \")\n",
        "rev = \"\"\n",
        "for i in n:\n",
        "    rev = i + rev\n",
        "print(\"Reverse =\", rev)\n"
      ],
      "metadata": {
        "colab": {
          "base_uri": "https://localhost:8080/"
        },
        "id": "prPuRpwNWreA",
        "outputId": "3fb1be20-ffc7-4ff6-f469-23ce5a3d0971"
      },
      "execution_count": 19,
      "outputs": [
        {
          "output_type": "stream",
          "name": "stdout",
          "text": [
            "Enter number: 55\n",
            "Reverse = 55\n"
          ]
        }
      ]
    },
    {
      "cell_type": "code",
      "source": [
        "a = int(input(\"Enter a number: \"))\n",
        "b = int(input(\"Enter a power: \"))\n",
        "res = 1\n",
        "for i in range(b):\n",
        "    res *= a\n",
        "print(\"Result =\", res)\n"
      ],
      "metadata": {
        "colab": {
          "base_uri": "https://localhost:8080/"
        },
        "id": "YnkPQNASWrcD",
        "outputId": "b5bec106-8ffe-4830-ad9c-c640c47d5ce4"
      },
      "execution_count": 20,
      "outputs": [
        {
          "output_type": "stream",
          "name": "stdout",
          "text": [
            "Enter a number: 2\n",
            "Enter a power: 6\n",
            "Result = 64\n"
          ]
        }
      ]
    },
    {
      "cell_type": "code",
      "source": [
        "n = int(input(\"Enter number: \"))\n",
        "for i in range(1, n+1):\n",
        "    if n % i == 0:\n",
        "        print(i)\n"
      ],
      "metadata": {
        "colab": {
          "base_uri": "https://localhost:8080/"
        },
        "id": "mwkD4GnkWraK",
        "outputId": "9c3dbf59-fdaf-4980-e45f-3792db17fe80"
      },
      "execution_count": 21,
      "outputs": [
        {
          "output_type": "stream",
          "name": "stdout",
          "text": [
            "Enter number: 22\n",
            "1\n",
            "2\n",
            "11\n",
            "22\n"
          ]
        }
      ]
    },
    {
      "cell_type": "code",
      "source": [
        "n = int(input(\"Enter number: \"))\n",
        "f = 1\n",
        "for i in range(1, n+1):\n",
        "    f *= i\n",
        "print(\"Factorial =\", f)\n"
      ],
      "metadata": {
        "colab": {
          "base_uri": "https://localhost:8080/"
        },
        "id": "L6v5-o1GWrX5",
        "outputId": "4644a873-4c9c-4145-9aee-527a7442cf3e"
      },
      "execution_count": 22,
      "outputs": [
        {
          "output_type": "stream",
          "name": "stdout",
          "text": [
            "Enter number: 22\n",
            "Factorial = 1124000727777607680000\n"
          ]
        }
      ]
    },
    {
      "cell_type": "code",
      "source": [
        "a = int(input(\"Enter a: \"))\n",
        "b = int(input(\"Enter b: \"))\n",
        "for i in range(max(a, b), a*b+1):\n",
        "    if i % a == 0:\n",
        "        if i % b == 0:\n",
        "            print(\"LCM =\", i)\n",
        "            break\n"
      ],
      "metadata": {
        "colab": {
          "base_uri": "https://localhost:8080/"
        },
        "id": "iaJQ9x93WrUv",
        "outputId": "9ea4fafd-cd1d-479d-cbe9-6bcfc31e944b"
      },
      "execution_count": 23,
      "outputs": [
        {
          "output_type": "stream",
          "name": "stdout",
          "text": [
            "Enter a: 5\n",
            "Enter b: 4\n",
            "LCM = 20\n"
          ]
        }
      ]
    },
    {
      "cell_type": "code",
      "source": [
        "n = int(input(\"Enter number: \"))\n",
        "if n <= 1:\n",
        "    print(\"Not Prime\")\n",
        "else:\n",
        "    for i in range(2, n):\n",
        "        if n % i == 0:\n",
        "            print(\"Not Prime\")\n",
        "            break\n",
        "    else:\n",
        "        print(\"Prime\")\n"
      ],
      "metadata": {
        "colab": {
          "base_uri": "https://localhost:8080/"
        },
        "id": "VTWBGjw1WrSd",
        "outputId": "23d2045a-7038-40f3-d0fd-53679e43abda"
      },
      "execution_count": 24,
      "outputs": [
        {
          "output_type": "stream",
          "name": "stdout",
          "text": [
            "Enter number: 2\n",
            "Prime\n"
          ]
        }
      ]
    },
    {
      "cell_type": "code",
      "source": [
        "n = int(input(\"Enter n: \"))\n",
        "for num in range(2, n+1):\n",
        "    for i in range(2, num):\n",
        "        if num % i == 0:\n",
        "            break\n",
        "    else:\n",
        "        print(num)\n"
      ],
      "metadata": {
        "colab": {
          "base_uri": "https://localhost:8080/"
        },
        "id": "rkfXfOHLWrQC",
        "outputId": "9356ddca-afb3-4bed-c3c3-ac9c4e43ea40"
      },
      "execution_count": 25,
      "outputs": [
        {
          "output_type": "stream",
          "name": "stdout",
          "text": [
            "Enter n: 56\n",
            "2\n",
            "3\n",
            "5\n",
            "7\n",
            "11\n",
            "13\n",
            "17\n",
            "19\n",
            "23\n",
            "29\n",
            "31\n",
            "37\n",
            "41\n",
            "43\n",
            "47\n",
            "53\n"
          ]
        }
      ]
    },
    {
      "cell_type": "code",
      "source": [
        "n = int(input(\"Enter number: \"))\n",
        "for i in range(2, n+1):\n",
        "    if n % i == 0:\n",
        "        for j in range(2, i):\n",
        "            if i % j == 0:\n",
        "                break\n",
        "        else:\n",
        "            print(i)\n"
      ],
      "metadata": {
        "colab": {
          "base_uri": "https://localhost:8080/"
        },
        "id": "jJq3uDU_WrN2",
        "outputId": "a8f3470e-0c37-40dd-be8e-05ad1140c81e"
      },
      "execution_count": 27,
      "outputs": [
        {
          "output_type": "stream",
          "name": "stdout",
          "text": [
            "Enter number: 55\n",
            "5\n",
            "11\n"
          ]
        }
      ]
    },
    {
      "cell_type": "code",
      "source": [
        "n = int(input(\"Enter number: \"))\n",
        "s = 0\n",
        "p = len(str(n))\n",
        "for i in str(n):\n",
        "    s += int(i) ** p\n",
        "if s == n:\n",
        "    print(\"Armstrong\")\n",
        "else:\n",
        "    print(\"Not Armstrong\")\n"
      ],
      "metadata": {
        "colab": {
          "base_uri": "https://localhost:8080/"
        },
        "id": "hUK5s16OWrLs",
        "outputId": "6212672a-e791-46fe-da14-9f0180c6dead"
      },
      "execution_count": 28,
      "outputs": [
        {
          "output_type": "stream",
          "name": "stdout",
          "text": [
            "Enter number: 56\n",
            "Not Armstrong\n"
          ]
        }
      ]
    },
    {
      "cell_type": "code",
      "source": [
        "n = int(input(\"Enter number: \"))\n",
        "s = 0\n",
        "for i in str(n):\n",
        "    f = 1\n",
        "    for j in range(1, int(i)+1):\n",
        "        f *= j\n",
        "    s += f\n",
        "if s == n:\n",
        "    print(\"Strong\")\n",
        "else:\n",
        "    print(\"Not Strong\")\n"
      ],
      "metadata": {
        "colab": {
          "base_uri": "https://localhost:8080/"
        },
        "id": "tveCviWZWrJm",
        "outputId": "b4af3f45-371f-4fc4-a042-0f584ab647a3"
      },
      "execution_count": 29,
      "outputs": [
        {
          "output_type": "stream",
          "name": "stdout",
          "text": [
            "Enter number: 45\n",
            "Not Strong\n"
          ]
        }
      ]
    },
    {
      "cell_type": "code",
      "source": [
        "n = int(input(\"Enter number: \"))\n",
        "s = 0\n",
        "for i in range(1, n):\n",
        "    if n % i == 0:\n",
        "        s += i\n",
        "if s == n:\n",
        "    print(\"Perfect\")\n",
        "else:\n",
        "    print(\"Not Perfect\")\n"
      ],
      "metadata": {
        "colab": {
          "base_uri": "https://localhost:8080/"
        },
        "id": "GvSJtkXbWrHb",
        "outputId": "3ce8d62e-cf31-4841-a136-4b40f4d09be3"
      },
      "execution_count": 30,
      "outputs": [
        {
          "output_type": "stream",
          "name": "stdout",
          "text": [
            "Enter number: 25\n",
            "Not Perfect\n"
          ]
        }
      ]
    },
    {
      "cell_type": "code",
      "source": [
        "n = int(input(\"Enter number of terms: \"))\n",
        "a = 0\n",
        "b = 1\n",
        "for i in range(n):\n",
        "    print((a), end = \" \")\n",
        "    c = a + b\n",
        "    a = b\n",
        "    b = c\n"
      ],
      "metadata": {
        "colab": {
          "base_uri": "https://localhost:8080/"
        },
        "id": "FdIzIYw8WrFQ",
        "outputId": "c1a0aaed-3f07-488b-80ad-7cf962dd8199"
      },
      "execution_count": 33,
      "outputs": [
        {
          "output_type": "stream",
          "name": "stdout",
          "text": [
            "Enter number of terms: 45\n",
            "0 1 1 2 3 5 8 13 21 34 55 89 144 233 377 610 987 1597 2584 4181 6765 10946 17711 28657 46368 75025 121393 196418 317811 514229 832040 1346269 2178309 3524578 5702887 9227465 14930352 24157817 39088169 63245986 102334155 165580141 267914296 433494437 701408733 "
          ]
        }
      ]
    },
    {
      "cell_type": "code",
      "source": [
        "binary = input(\"Enter binary number: \")\n",
        "comp = \"\"\n",
        "for i in binary:\n",
        "    if i == '1':\n",
        "        comp += '0'\n",
        "    else:\n",
        "        comp += '1'\n",
        "print(\"One's Complement =\", comp)\n"
      ],
      "metadata": {
        "colab": {
          "base_uri": "https://localhost:8080/"
        },
        "id": "XW9rAJtCWq_-",
        "outputId": "f12ade01-f2c0-4712-df34-66143bd45cd6"
      },
      "execution_count": 31,
      "outputs": [
        {
          "output_type": "stream",
          "name": "stdout",
          "text": [
            "Enter binary number: 01101110\n",
            "One's Complement = 10010001\n"
          ]
        }
      ]
    }
  ]
}