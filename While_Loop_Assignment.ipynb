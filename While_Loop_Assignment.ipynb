{
  "nbformat": 4,
  "nbformat_minor": 0,
  "metadata": {
    "colab": {
      "provenance": []
    },
    "kernelspec": {
      "name": "python3",
      "display_name": "Python 3"
    },
    "language_info": {
      "name": "python"
    }
  },
  "cells": [
    {
      "cell_type": "code",
      "source": [
        "n = int(input(\"Enter the value of n: \"))\n",
        "\n",
        "i = 1\n",
        "while i <= n:\n",
        "    print(i)\n",
        "    i += 1"
      ],
      "metadata": {
        "id": "mJBDk4wSVgH0",
        "colab": {
          "base_uri": "https://localhost:8080/"
        },
        "outputId": "78ecbcf8-a186-4d45-b91a-a9681e7d65ce"
      },
      "execution_count": null,
      "outputs": [
        {
          "output_type": "stream",
          "name": "stdout",
          "text": [
            "Enter the value of n: 5\n",
            "1\n",
            "2\n",
            "3\n",
            "4\n",
            "5\n"
          ]
        }
      ]
    },
    {
      "cell_type": "code",
      "source": [
        "n = int(input(\"Enter the value of n: \"))\n",
        "\n",
        "while n >= 1:\n",
        "    print(n)\n",
        "    n -= 1"
      ],
      "metadata": {
        "id": "NA7OvBlBVf9G",
        "colab": {
          "base_uri": "https://localhost:8080/"
        },
        "outputId": "40ca127b-9dd0-495f-8235-83ddd80ffb83"
      },
      "execution_count": null,
      "outputs": [
        {
          "output_type": "stream",
          "name": "stdout",
          "text": [
            "Enter the value of n: 5\n",
            "5\n",
            "4\n",
            "3\n",
            "2\n",
            "1\n"
          ]
        }
      ]
    },
    {
      "cell_type": "code",
      "source": [
        "ch = ord('a')\n",
        "\n",
        "while ch <= ord('z'):\n",
        "    print(chr(ch), end=' ')\n",
        "    ch += 1\n"
      ],
      "metadata": {
        "id": "Yq2jcXSMVfyJ",
        "colab": {
          "base_uri": "https://localhost:8080/"
        },
        "outputId": "8a8c8c5a-e734-477f-fea5-a06fa2b4d658"
      },
      "execution_count": null,
      "outputs": [
        {
          "output_type": "stream",
          "name": "stdout",
          "text": [
            "a b c d e f g h i j k l m n o p q r s t u v w x y z "
          ]
        }
      ]
    },
    {
      "cell_type": "code",
      "source": [
        "num = 2\n",
        "\n",
        "while num <= 100:\n",
        "    print(num,end =\" \")\n",
        "    num += 2\n"
      ],
      "metadata": {
        "id": "d2DHC_26Vfep",
        "colab": {
          "base_uri": "https://localhost:8080/"
        },
        "outputId": "951214e2-54f9-49bb-8a27-9fbfdb79610e"
      },
      "execution_count": null,
      "outputs": [
        {
          "output_type": "stream",
          "name": "stdout",
          "text": [
            "2 4 6 8 10 12 14 16 18 20 22 24 26 28 30 32 34 36 38 40 42 44 46 48 50 52 54 56 58 60 62 64 66 68 70 72 74 76 78 80 82 84 86 88 90 92 94 96 98 100 "
          ]
        }
      ]
    },
    {
      "cell_type": "code",
      "execution_count": null,
      "metadata": {
        "colab": {
          "base_uri": "https://localhost:8080/"
        },
        "id": "F9M-APuCN_7i",
        "outputId": "e924385d-ec58-4cc2-95d5-80f939087c3d"
      },
      "outputs": [
        {
          "output_type": "stream",
          "name": "stdout",
          "text": [
            "Enter a number: 10\n",
            "sum of odd numbers from 1 to 10 is: 25\n"
          ]
        }
      ],
      "source": [
        "n = int(input(\"Enter a number: \"))\n",
        "sum = 0\n",
        "\n",
        "for i in range(1 , n+1,2):\n",
        "    sum += i\n",
        "print(\"sum of odd numbers from 1 to\" , n,\"is:\", sum)\n"
      ]
    },
    {
      "cell_type": "code",
      "source": [
        "num = int(input(\"Enter number: \"))\n",
        "count = 0\n",
        "\n",
        "if num == 0:\n",
        "    count = 1\n",
        "else:\n",
        "    if num < 0:\n",
        "        num = -num\n",
        "    while num != 0:\n",
        "        num //= 10\n",
        "        count += 1\n",
        "\n",
        "print(\"Digits:\", count)\n"
      ],
      "metadata": {
        "id": "pJHU_aGcVhhB",
        "colab": {
          "base_uri": "https://localhost:8080/"
        },
        "outputId": "8f70be85-bcbc-47b9-f3b5-8d9398568929"
      },
      "execution_count": null,
      "outputs": [
        {
          "output_type": "stream",
          "name": "stdout",
          "text": [
            "Enter number: 12345\n",
            "Digits: 5\n"
          ]
        }
      ]
    },
    {
      "cell_type": "code",
      "source": [
        "n = int(input(\"Enter number: \"))\n",
        "sum = 0\n",
        "\n",
        "if n < 0:\n",
        "    n = -n\n",
        "\n",
        "while n != 0:\n",
        "    sum += n % 10\n",
        "    n //= 10\n",
        "\n",
        "print(\"Sum of digits:\", sum)\n"
      ],
      "metadata": {
        "id": "g-xFk7tqVhWV",
        "colab": {
          "base_uri": "https://localhost:8080/"
        },
        "outputId": "c2eeac36-f242-4245-a96e-369aee5578dc"
      },
      "execution_count": null,
      "outputs": [
        {
          "output_type": "stream",
          "name": "stdout",
          "text": [
            "Enter number: 12345\n",
            "Sum of digits: 15\n"
          ]
        }
      ]
    },
    {
      "cell_type": "code",
      "source": [
        "num = int(input(\"Enter a number: \"))\n",
        "last = num % 10\n",
        "first = num\n",
        "while first >= 10:\n",
        "  first = first // 10\n",
        "\n",
        "print(\"first digit :\", first)\n",
        "print(\"last digit:\", last)\n",
        "\n"
      ],
      "metadata": {
        "colab": {
          "base_uri": "https://localhost:8080/"
        },
        "id": "1dR5A59yQK6q",
        "outputId": "c8cec623-3395-46ac-9962-65cd9d9db7ba"
      },
      "execution_count": null,
      "outputs": [
        {
          "output_type": "stream",
          "name": "stdout",
          "text": [
            "Enter a number: 12346789\n",
            "first digit : 1\n",
            "last digit: 9\n"
          ]
        }
      ]
    },
    {
      "cell_type": "code",
      "source": [
        "num = int(input(\"Enter a number: \"))\n",
        "last = num % 10\n",
        "first = num\n",
        "while first >= 10:\n",
        "  first = first // 10\n",
        "\n",
        "  sum_digits = first + last\n",
        "\n",
        "print(\"The sum of the first and last digit is:\", sum_digits)\n",
        "\n"
      ],
      "metadata": {
        "colab": {
          "base_uri": "https://localhost:8080/"
        },
        "id": "KTbVxDubSUZf",
        "outputId": "9c7b8808-8d69-4d4d-cc4c-f8f6064e05f7"
      },
      "execution_count": null,
      "outputs": [
        {
          "output_type": "stream",
          "name": "stdout",
          "text": [
            "Enter a number: 456789\n",
            "The sum of the first and last digit is: 13\n"
          ]
        }
      ]
    },
    {
      "cell_type": "code",
      "source": [
        "num = int(input(\"Enter number: \"))\n",
        "rev = 0\n",
        "\n",
        "while num != 0:\n",
        "    digit = num % 10\n",
        "    rev = rev * 10 + digit\n",
        "    num //= 10\n",
        "\n",
        "print(\"Reversed number:\", rev)\n"
      ],
      "metadata": {
        "colab": {
          "base_uri": "https://localhost:8080/"
        },
        "id": "Brbl4iv5_g3J",
        "outputId": "52f167c2-bf6e-4962-a3b0-ceb3f9e16cd7"
      },
      "execution_count": null,
      "outputs": [
        {
          "output_type": "stream",
          "name": "stdout",
          "text": [
            "Enter number: 1245\n",
            "Reversed number: 5421\n"
          ]
        }
      ]
    },
    {
      "cell_type": "code",
      "source": [
        "num = int(input(\"Enter a number: \"))\n",
        "power = int(input(\"Enter a power: \"))\n",
        "\n",
        "result = 1\n",
        "i = 0\n",
        "\n",
        "while i < power:\n",
        "    result *= num\n",
        "    i += 1\n",
        "\n",
        "print(\"Result:\", result)"
      ],
      "metadata": {
        "colab": {
          "base_uri": "https://localhost:8080/"
        },
        "id": "aVw_Zmux_gzY",
        "outputId": "95b25929-8a1c-4aab-b599-f6c691899490"
      },
      "execution_count": null,
      "outputs": [
        {
          "output_type": "stream",
          "name": "stdout",
          "text": [
            "Enter a number: 2\n",
            "Enter a power: 2\n",
            "Result: 4\n"
          ]
        }
      ]
    },
    {
      "cell_type": "code",
      "source": [
        "n = int(input(\"Enter number: \"))\n",
        "i = 1\n",
        "\n",
        "print(\"Factors of\", n, \"are:\")\n",
        "\n",
        "while i <= n:\n",
        "    if n % i == 0:\n",
        "        print(i)\n",
        "    i += 1\n"
      ],
      "metadata": {
        "colab": {
          "base_uri": "https://localhost:8080/"
        },
        "id": "66Z0jSgt_gw5",
        "outputId": "5c4c5adf-f3c2-4fbc-ef51-4c77cad69115"
      },
      "execution_count": null,
      "outputs": [
        {
          "output_type": "stream",
          "name": "stdout",
          "text": [
            "Enter number: 22\n",
            "Factors of 22 are:\n",
            "1\n",
            "2\n",
            "11\n",
            "22\n"
          ]
        }
      ]
    },
    {
      "cell_type": "code",
      "source": [
        "n = int(input(\"Enter number: \"))\n",
        "fact = 1\n",
        "\n",
        "while n > 0:\n",
        "    fact *= n\n",
        "    n -= 1\n",
        "\n",
        "print(\"Factorial:\", fact)\n"
      ],
      "metadata": {
        "colab": {
          "base_uri": "https://localhost:8080/"
        },
        "id": "sZJeYjhR_gth",
        "outputId": "47b61ce0-5ee6-418c-8737-4393c948cc8e"
      },
      "execution_count": null,
      "outputs": [
        {
          "output_type": "stream",
          "name": "stdout",
          "text": [
            "Enter number: 1\n",
            "Factorial: 1\n"
          ]
        }
      ]
    },
    {
      "cell_type": "code",
      "source": [
        "a = int(input(\"Enter first number: \"))\n",
        "b = int(input(\"Enter second number: \"))\n",
        "lcm = max(a, b)\n",
        "\n",
        "while True:\n",
        "    if lcm % a == 0 and lcm % b == 0:\n",
        "        print(\"LCM is:\", lcm)\n",
        "        break\n",
        "    lcm += 1\n"
      ],
      "metadata": {
        "colab": {
          "base_uri": "https://localhost:8080/"
        },
        "id": "9GxBmRL7_go3",
        "outputId": "769ee771-6b03-4432-97bc-bf1b1e91b625"
      },
      "execution_count": null,
      "outputs": [
        {
          "output_type": "stream",
          "name": "stdout",
          "text": [
            "Enter first number: 22\n",
            "Enter second number: 22\n",
            "LCM is: 22\n"
          ]
        }
      ]
    },
    {
      "cell_type": "code",
      "source": [
        "n = int(input(\"Enter number: \"))\n",
        "i = 2\n",
        "is_prime = True\n",
        "\n",
        "if n <= 1:\n",
        "    is_prime = False\n",
        "else:\n",
        "    while i <= n // 2:\n",
        "        if n % i == 0:\n",
        "            is_prime = False\n",
        "            break\n",
        "        i += 1\n",
        "\n",
        "if is_prime:\n",
        "    print(\"Prime number\")\n",
        "else:\n",
        "    print(\"Not a prime number\")\n"
      ],
      "metadata": {
        "colab": {
          "base_uri": "https://localhost:8080/"
        },
        "id": "3itT9XmV_gl8",
        "outputId": "768fe79f-4577-4e6e-fabc-a3b9f61fd68b"
      },
      "execution_count": null,
      "outputs": [
        {
          "output_type": "stream",
          "name": "stdout",
          "text": [
            "Enter number: 22\n",
            "Not a prime number\n"
          ]
        }
      ]
    },
    {
      "cell_type": "code",
      "source": [
        "n = int(input(\"Enter number: \"))\n",
        "i = 2\n",
        "prime = True\n",
        "\n",
        "if n <= 1:\n",
        "    prime = False\n",
        "while i <= n // 2:\n",
        "    if n % i == 0:\n",
        "        prime = False\n",
        "        break\n",
        "    i += 1\n",
        "\n",
        "print(\"Prime\" if prime else \"Not Prime\")\n"
      ],
      "metadata": {
        "colab": {
          "base_uri": "https://localhost:8080/"
        },
        "id": "Qy76UMkW_gi_",
        "outputId": "42cf5afd-e503-4a26-e8f2-e2297e7a1d62"
      },
      "execution_count": null,
      "outputs": [
        {
          "output_type": "stream",
          "name": "stdout",
          "text": [
            "Enter number: 11\n",
            "Prime\n"
          ]
        }
      ]
    },
    {
      "cell_type": "code",
      "source": [
        "n = int(input(\"Enter number: \"))\n",
        "i = 2\n",
        "\n",
        "print(\"Prime factors:\")\n",
        "\n",
        "while i <= n:\n",
        "    if n % i == 0:\n",
        "        print(i)\n",
        "        n //= i\n",
        "    else:\n",
        "        i += 1\n"
      ],
      "metadata": {
        "colab": {
          "base_uri": "https://localhost:8080/"
        },
        "id": "E9RaWqUH_gfx",
        "outputId": "239d9140-dd36-4d20-b52c-4e97171b398c"
      },
      "execution_count": null,
      "outputs": [
        {
          "output_type": "stream",
          "name": "stdout",
          "text": [
            "Enter number: 2\n",
            "Prime factors:\n",
            "2\n"
          ]
        }
      ]
    },
    {
      "cell_type": "code",
      "source": [
        "n = int(input(\"Enter number: \"))\n",
        "temp = n\n",
        "sum = 0\n",
        "count = 0\n",
        "\n",
        "t = n\n",
        "while t != 0:\n",
        "    count += 1\n",
        "    t //= 10\n",
        "\n",
        "while n != 0:\n",
        "    digit = n % 10\n",
        "    sum += digit ** count\n",
        "    n //= 10\n",
        "\n",
        "if sum == temp:\n",
        "    print(\"Armstrong number\")\n",
        "else:\n",
        "    print(\"Not an Armstrong number\")\n"
      ],
      "metadata": {
        "colab": {
          "base_uri": "https://localhost:8080/"
        },
        "id": "AsRnqkw7_gVc",
        "outputId": "84e4e106-0c5a-4360-b88e-1dcc7de35291"
      },
      "execution_count": null,
      "outputs": [
        {
          "output_type": "stream",
          "name": "stdout",
          "text": [
            "Enter number: 22\n",
            "Not an Armstrong number\n"
          ]
        }
      ]
    },
    {
      "cell_type": "code",
      "source": [
        "n = int(input(\"Enter number: \"))\n",
        "temp = n\n",
        "sum = 0\n",
        "\n",
        "def fact(x):\n",
        "    f = 1\n",
        "    while x > 1:\n",
        "        f *= x\n",
        "        x -= 1\n",
        "    return f\n",
        "\n",
        "while n != 0:\n",
        "    digit = n % 10\n",
        "    sum += fact(digit)\n",
        "    n //= 10\n",
        "\n",
        "if sum == temp:\n",
        "    print(\"Strong number\")\n",
        "else:\n",
        "    print(\"Not a Strong number\")\n"
      ],
      "metadata": {
        "colab": {
          "base_uri": "https://localhost:8080/"
        },
        "id": "YU1ZpF8RRQGE",
        "outputId": "5a9cc88a-db60-4f6e-bb77-2bb46969bf41"
      },
      "execution_count": null,
      "outputs": [
        {
          "output_type": "stream",
          "name": "stdout",
          "text": [
            "Enter number: 145\n",
            "Strong number\n"
          ]
        }
      ]
    },
    {
      "cell_type": "code",
      "source": [
        "n = int(input(\"Enter number: \"))\n",
        "i = 1\n",
        "sum = 0\n",
        "\n",
        "while i < n:\n",
        "    if n % i == 0:\n",
        "        sum += i\n",
        "    i += 1\n",
        "\n",
        "if sum == n:\n",
        "    print(\"Perfect number\")\n",
        "else:\n",
        "    print(\"Not a Perfect number\")\n"
      ],
      "metadata": {
        "colab": {
          "base_uri": "https://localhost:8080/"
        },
        "id": "N0c4W_axRhqE",
        "outputId": "806d3b5c-d23a-4555-c38b-f308e7bac2b9"
      },
      "execution_count": null,
      "outputs": [
        {
          "output_type": "stream",
          "name": "stdout",
          "text": [
            "Enter number: 55\n",
            "Not a Perfect number\n"
          ]
        }
      ]
    },
    {
      "cell_type": "code",
      "source": [
        "n = int(input(\"Enter number of terms: \"))\n",
        "a, b = 0, 1\n",
        "count = 0\n",
        "\n",
        "while count < n:\n",
        "    print(a, end=' ')\n",
        "    a, b = b, a + b\n",
        "    count += 1\n"
      ],
      "metadata": {
        "colab": {
          "base_uri": "https://localhost:8080/"
        },
        "id": "uhF2C_lDRhnQ",
        "outputId": "6c6d793e-7a26-4c60-ee08-341ba81e6996"
      },
      "execution_count": null,
      "outputs": [
        {
          "output_type": "stream",
          "name": "stdout",
          "text": [
            "Enter number of terms: 22\n",
            "0 1 1 2 3 5 8 13 21 34 55 89 144 233 377 610 987 1597 2584 4181 6765 10946 "
          ]
        }
      ]
    },
    {
      "cell_type": "code",
      "source": [
        "binary = input(\"Enter binary number: \")\n",
        "ones_complement = \"\"\n",
        "\n",
        "for bit in binary:\n",
        "    if bit == '0':\n",
        "        ones_complement += '1'\n",
        "    else:\n",
        "        ones_complement += '0'\n",
        "\n",
        "print(\"One's complement:\", ones_complement)\n"
      ],
      "metadata": {
        "colab": {
          "base_uri": "https://localhost:8080/"
        },
        "id": "A3x1stRSRhkb",
        "outputId": "ccdc1994-597b-4a2f-a355-bafee0176024"
      },
      "execution_count": null,
      "outputs": [
        {
          "output_type": "stream",
          "name": "stdout",
          "text": [
            "Enter binary number: 01101110\n",
            "One's complement: 10010001\n"
          ]
        }
      ]
    }
  ]
}