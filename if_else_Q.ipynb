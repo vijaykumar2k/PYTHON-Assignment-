{
  "nbformat": 4,
  "nbformat_minor": 0,
  "metadata": {
    "colab": {
      "provenance": []
    },
    "kernelspec": {
      "name": "python3",
      "display_name": "Python 3"
    },
    "language_info": {
      "name": "python"
    }
  },
  "cells": [
    {
      "cell_type": "code",
      "execution_count": null,
      "metadata": {
        "colab": {
          "base_uri": "https://localhost:8080/"
        },
        "id": "LCfwFWlwYU6b",
        "outputId": "d0a89f17-52ed-4466-e0f4-078173b55ec4"
      },
      "outputs": [
        {
          "output_type": "stream",
          "name": "stdout",
          "text": [
            "Enter a number: 3\n",
            "Odd\n"
          ]
        }
      ],
      "source": [
        "# Q.1 Check if a number is even or odd\n",
        "# Input: an integer\n",
        "# Output: print \"Even\" or \"Odd\"\n",
        "\n",
        "\n",
        "n = int(input(\"Enter a number: \"))\n",
        "\n",
        "if n % 2 == 0:\n",
        "    print(\"Even\")\n",
        "else:\n",
        "    print(\"Odd\")\n"
      ]
    },
    {
      "cell_type": "code",
      "source": [
        "# Q.2 Check whether a number is positive, negative, or zero\n",
        "# Input: an integer\n",
        "# Output: print corresponding result\n",
        "\n",
        "n = int(input(\"Enter a number: \"))\n",
        "\n",
        "if n > 0:\n",
        "    print(\"Positive\")\n",
        "elif n < 0:\n",
        "    print(\"Negative\")\n",
        "else:\n",
        "    print(\"Zero\")\n"
      ],
      "metadata": {
        "colab": {
          "base_uri": "https://localhost:8080/"
        },
        "id": "9hNoqWUeaX3J",
        "outputId": "a7baf3bd-ee05-44bb-c071-8f7420f706b8"
      },
      "execution_count": null,
      "outputs": [
        {
          "output_type": "stream",
          "name": "stdout",
          "text": [
            "Enter a number: 5\n",
            "Positive\n"
          ]
        }
      ]
    },
    {
      "cell_type": "code",
      "source": [
        "# Q.3 Find the largest among three numbers\n",
        "# Input: three numbers\n",
        "# Output: print the largesta\n",
        "\n",
        "a = int(input(\"Enter first number: \"))\n",
        "b = int(input(\"Enter second number: \"))\n",
        "c = int(input(\"Enter third number: \"))\n",
        "\n",
        "if a >= b and a >= c:\n",
        "    print(\"Largest:\", a)\n",
        "elif b >= a and b >= c:\n",
        "    print(\"Largest:\", b)\n",
        "else:\n",
        "    print(\"Largest:\", c)"
      ],
      "metadata": {
        "colab": {
          "base_uri": "https://localhost:8080/"
        },
        "id": "3z1G1fmPbBgc",
        "outputId": "7692b9b0-cb4c-4d04-c882-ea0dbd46421f"
      },
      "execution_count": null,
      "outputs": [
        {
          "output_type": "stream",
          "name": "stdout",
          "text": [
            "Enter first number: 6\n",
            "Enter second number: 3\n",
            "Enter third number: 0\n",
            "Largest: 6\n"
          ]
        }
      ]
    },
    {
      "cell_type": "code",
      "source": [
        "# Q.4 Check if a year is a leap year\n",
        "# Input: a year\n",
        "# Output: print \"Leap Year\" or \"Not a Leap Year\"\n",
        "\n",
        "year = int(input(\"Enter a year: \"))\n",
        "\n",
        "if (year % 4 == 0 and year % 100 != 0) or (year % 400 == 0):\n",
        "    print(\"Leap Year\")\n",
        "else:\n",
        "    print(\"Not a Leap Year\")\n",
        "\n",
        "\n",
        "\n"
      ],
      "metadata": {
        "id": "bhGIDSFzbwlh",
        "colab": {
          "base_uri": "https://localhost:8080/"
        },
        "outputId": "2328d72f-1f0f-45e5-d287-0a85d837832d"
      },
      "execution_count": 3,
      "outputs": [
        {
          "output_type": "stream",
          "name": "stdout",
          "text": [
            "Enter a year: 2012\n",
            "Leap Year\n"
          ]
        }
      ]
    },
    {
      "cell_type": "code",
      "source": [
        "# Q.5 Check if a number is divisible by both 3 and 5\n",
        "# Input: an integer\n",
        "# Output: print result accordingly\n",
        "\n",
        "n = int(input(\"Enter a number: \"))\n",
        "\n",
        "if n % 3 == 0 and n % 5 == 0:\n",
        "    print(\"Divisible by both 3 and 5\")\n",
        "else:\n",
        "    print(\"Not divisible by both 3 and 5\")"
      ],
      "metadata": {
        "colab": {
          "base_uri": "https://localhost:8080/"
        },
        "id": "Evw2IGbVbwuB",
        "outputId": "c9bd68c5-0a28-448e-b203-d6d56af83528"
      },
      "execution_count": null,
      "outputs": [
        {
          "output_type": "stream",
          "name": "stdout",
          "text": [
            "Enter a number: 2\n",
            "Not divisible by both 3 and 5\n"
          ]
        }
      ]
    },
    {
      "cell_type": "code",
      "source": [
        "# Q.7 Determine grade based on marks\n",
        "# Input: marks out of 100\n",
        "# Output: print grade A/B/C/D/Fail based on range\n",
        "\n",
        "marks = int(input(\"Enter marks (out of 100): \"))\n",
        "\n",
        "if marks >= 90 and marks <= 100:\n",
        "    print(\"Grade: A\")\n",
        "elif marks >= 80:\n",
        "    print(\"Grade: B\")\n",
        "elif marks >= 70:\n",
        "    print(\"Grade: C\")\n",
        "elif marks >= 50:\n",
        "    print(\"Grade: D\")\n",
        "elif marks >= 0:\n",
        "    print(\"Grade: Fail\")\n",
        "else:\n",
        "    print(\"Invalid marks\")\n"
      ],
      "metadata": {
        "colab": {
          "base_uri": "https://localhost:8080/"
        },
        "id": "DwI-YLfSb1aC",
        "outputId": "0eca48d6-33ad-4de2-a562-d678b5633ab2"
      },
      "execution_count": null,
      "outputs": [
        {
          "output_type": "stream",
          "name": "stdout",
          "text": [
            "Enter marks (out of 100): 35\n",
            "Grade: Fail\n"
          ]
        }
      ]
    },
    {
      "cell_type": "code",
      "source": [
        "# Q.8 Check if a person is eligible to vote\n",
        "# Input: age of person\n",
        "# Output: print \"Eligible\" if age ≥ 18\n",
        "\n",
        "\n",
        "age = int(input(\"Enter age: \"))\n",
        "\n",
        "if age >= 18:\n",
        "    print(\"you are Eligible for Barbaadi\")\n",
        "else:\n",
        "    print(\"you are Not Eligible for Barbaadi\")\n"
      ],
      "metadata": {
        "colab": {
          "base_uri": "https://localhost:8080/"
        },
        "id": "uSYYGbODb1m1",
        "outputId": "f69517bc-3718-4320-c0fe-b73768f5773f"
      },
      "execution_count": null,
      "outputs": [
        {
          "output_type": "stream",
          "name": "stdout",
          "text": [
            "Enter age: 18\n",
            "you are Eligible for Barbaadi\n"
          ]
        }
      ]
    },
    {
      "cell_type": "code",
      "source": [
        "# Q.9 Print numbers from 1 to 10 using a while loop\n",
        "\n",
        "\n",
        "i = 1\n",
        "while i <= 10:\n",
        "    print(i)\n",
        "    i += 1\n"
      ],
      "metadata": {
        "colab": {
          "base_uri": "https://localhost:8080/"
        },
        "id": "FQgjOMkCb1wL",
        "outputId": "d8a416e2-a3fc-4349-9f55-1330bce1ea93"
      },
      "execution_count": null,
      "outputs": [
        {
          "output_type": "stream",
          "name": "stdout",
          "text": [
            "1\n",
            "2\n",
            "3\n",
            "4\n",
            "5\n",
            "6\n",
            "7\n",
            "8\n",
            "9\n",
            "10\n"
          ]
        }
      ]
    },
    {
      "cell_type": "code",
      "source": [
        "# Q.10 Print even numbers from 1 to 20 using while loop with step value of 3 .\n",
        "\n",
        "\n",
        "i = 1\n",
        "while i <= 20:\n",
        "    if i % 2 == 0:\n",
        "        print(i)\n",
        "    i += 3\n",
        "\n"
      ],
      "metadata": {
        "colab": {
          "base_uri": "https://localhost:8080/"
        },
        "id": "waLpuXf5b1zs",
        "outputId": "c486d6a0-c9ae-4ed6-bcdb-4f050872c953"
      },
      "execution_count": null,
      "outputs": [
        {
          "output_type": "stream",
          "name": "stdout",
          "text": [
            "4\n",
            "10\n",
            "16\n"
          ]
        }
      ]
    },
    {
      "cell_type": "code",
      "source": [
        "# Q.11 Calculate the sum of the first n natural numbers using a while loop\n",
        "# Input: n\n",
        "# Output: sum\n",
        "\n",
        "n = int(input(\"Enter n: \"))\n",
        "sum = 0\n",
        "i = 1\n",
        "\n",
        "while i <= n:\n",
        "    sum += i\n",
        "    i += 1\n",
        "\n",
        "print(\"Sum of first\", n, \"natural numbers is:\", sum)\n"
      ],
      "metadata": {
        "colab": {
          "base_uri": "https://localhost:8080/"
        },
        "id": "ln1YUpPab2EI",
        "outputId": "04e116de-b1fc-452f-890e-a3968dc0fb3b"
      },
      "execution_count": null,
      "outputs": [
        {
          "output_type": "stream",
          "name": "stdout",
          "text": [
            "Enter n: 5\n",
            "Sum of first 5 natural numbers is: 15\n"
          ]
        }
      ]
    },
    {
      "cell_type": "code",
      "source": [
        "# Q.12 Print multiplication table of a number using while loop\n",
        "# Input: number n\n",
        "# Output: n × 1 to n × 10\n",
        "\n",
        "\n",
        "n = int(input(\"Enter a number: \"))\n",
        "i = 1\n",
        "\n",
        "while i <= 10:\n",
        "    print(f\"(n) x (i) = (n * i)\")\n",
        "    i += 1\n"
      ],
      "metadata": {
        "colab": {
          "base_uri": "https://localhost:8080/"
        },
        "id": "rTWqxIo3hpz_",
        "outputId": "6bbcdc11-220e-414e-d981-3aadf6b689a5"
      },
      "execution_count": null,
      "outputs": [
        {
          "output_type": "stream",
          "name": "stdout",
          "text": [
            "Enter a number: 2\n",
            "2 x 1 = 2\n",
            "2 x 2 = 4\n",
            "2 x 3 = 6\n",
            "2 x 4 = 8\n",
            "2 x 5 = 10\n",
            "2 x 6 = 12\n",
            "2 x 7 = 14\n",
            "2 x 8 = 16\n",
            "2 x 9 = 18\n",
            "2 x 10 = 20\n"
          ]
        }
      ]
    },
    {
      "cell_type": "code",
      "source": [
        "# Q.13 Reverse a number using while loop\n",
        "# Input: number 1234\n",
        "# Output: 4321\n",
        "\n",
        "\n",
        "num = int(input(\"Enter a number: \"))\n",
        "rev = 0\n",
        "\n",
        "while num > 0:\n",
        "    digit = num % 10\n",
        "    rev = rev * 10 + digit\n",
        "    num //= 10\n",
        "\n",
        "print(\"Reversed number is:\", rev)\n"
      ],
      "metadata": {
        "id": "bo3oA5QyhrEp",
        "colab": {
          "base_uri": "https://localhost:8080/"
        },
        "outputId": "ec6b31bf-a4c5-421f-9167-85e44218491d"
      },
      "execution_count": null,
      "outputs": [
        {
          "output_type": "stream",
          "name": "stdout",
          "text": [
            "Enter a number: 1234\n",
            "Reversed number is: 4321\n"
          ]
        }
      ]
    },
    {
      "cell_type": "code",
      "source": [
        "# Q.14 Count the number of digits in a number using while loop\n",
        "# Input: 45678\n",
        "# Output: 5\n",
        "\n",
        "num = int(input(\"Enter a number: \"))\n",
        "count = 0\n",
        "\n",
        "if num == 0:\n",
        "    count = 1\n",
        "else:\n",
        "    while num != 0:\n",
        "        num //= 10\n",
        "        count += 1\n",
        "\n",
        "print(\"Number of digits:\", count)\n"
      ],
      "metadata": {
        "colab": {
          "base_uri": "https://localhost:8080/"
        },
        "id": "8S-yVXSrhrQX",
        "outputId": "c5d0957b-443c-455c-b4cb-593d0e05faad"
      },
      "execution_count": null,
      "outputs": [
        {
          "output_type": "stream",
          "name": "stdout",
          "text": [
            "Enter a number: 45678\n",
            "Number of digits: 5\n"
          ]
        }
      ]
    },
    {
      "cell_type": "code",
      "source": [
        "# Q.15 Calculate factorial of a number using while loop\n",
        "# Input: n\n",
        "# Output: n!\n",
        "\n",
        "\n",
        "n = int(input(\"Enter a number: \"))\n",
        "fact = 1\n",
        "i = 1\n",
        "\n",
        "while i <= n:\n",
        "    fact *= i\n",
        "    i += 1\n",
        "\n",
        "print(f\"Factorial of {n} is {fact}\")\n",
        "\n",
        "\n",
        "\n"
      ],
      "metadata": {
        "id": "YYDTw8Sfh9RP",
        "colab": {
          "base_uri": "https://localhost:8080/"
        },
        "outputId": "e61d83b9-f385-4942-f9b2-c194453e1d66"
      },
      "execution_count": 2,
      "outputs": [
        {
          "output_type": "stream",
          "name": "stdout",
          "text": [
            "Enter a number: 5\n",
            "Factorial of 5 is 120\n"
          ]
        }
      ]
    }
  ]
}