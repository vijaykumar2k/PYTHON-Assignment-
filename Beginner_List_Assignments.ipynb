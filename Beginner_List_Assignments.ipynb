{
  "nbformat": 4,
  "nbformat_minor": 0,
  "metadata": {
    "colab": {
      "provenance": []
    },
    "kernelspec": {
      "name": "python3",
      "display_name": "Python 3"
    },
    "language_info": {
      "name": "python"
    }
  },
  "cells": [
    {
      "cell_type": "code",
      "source": [
        "numbers = [10, 20, 4, 45, 99]\n",
        "max = numbers[0]\n",
        "for index in numbers:\n",
        "    if index > max:\n",
        "        max = index\n",
        "print(\"Maximum element is:\", max)\n"
      ],
      "metadata": {
        "colab": {
          "base_uri": "https://localhost:8080/"
        },
        "id": "lHRbs2Rt8are",
        "outputId": "9f874c06-05d9-4e5a-d7b2-9eae1b3ee219"
      },
      "execution_count": 14,
      "outputs": [
        {
          "output_type": "stream",
          "name": "stdout",
          "text": [
            "Maximum element is: 99\n"
          ]
        }
      ]
    },
    {
      "cell_type": "code",
      "source": [
        "numbers = [10, 20, 30, 40]\n",
        "total = 0\n",
        "for index in numbers:\n",
        "    total += index\n",
        "print(\"Sum is:\", total)\n"
      ],
      "metadata": {
        "colab": {
          "base_uri": "https://localhost:8080/"
        },
        "id": "n6ioKYYL8ah5",
        "outputId": "6db4bfcc-051f-44ef-f148-5aaae6b5e94e"
      },
      "execution_count": 13,
      "outputs": [
        {
          "output_type": "stream",
          "name": "stdout",
          "text": [
            "Sum is: 100\n"
          ]
        }
      ]
    },
    {
      "cell_type": "code",
      "source": [
        "numbers = [1, 2, 3, 4, 5]\n",
        "sort = []\n",
        "for i in range(len(numbers) - 1, -1, -1):\n",
        "    sort.append(numbers[i])\n",
        "print(\"Reversed list:\", sort)\n"
      ],
      "metadata": {
        "colab": {
          "base_uri": "https://localhost:8080/"
        },
        "id": "xlqgPblK8aZB",
        "outputId": "c0f39dd1-f5c6-4471-b47e-aae221f5c557"
      },
      "execution_count": 12,
      "outputs": [
        {
          "output_type": "stream",
          "name": "stdout",
          "text": [
            "Reversed list: [5, 4, 3, 2, 1]\n"
          ]
        }
      ]
    },
    {
      "cell_type": "code",
      "source": [
        "numbers = [5, 2, 8, 1, 3]\n",
        "\n",
        "for i in range(len(numbers)):\n",
        "    for j in range(i + 1, len(numbers)):\n",
        "        if numbers[i] > numbers[j]:\n",
        "            numbers[i], numbers[j] = numbers[j], numbers[i]\n",
        "\n",
        "print(\"Sorted list:\", numbers)\n"
      ],
      "metadata": {
        "id": "oysgqZzm8aSl",
        "colab": {
          "base_uri": "https://localhost:8080/"
        },
        "outputId": "03a626cb-2fe5-497d-ce24-bf9fc008c619"
      },
      "execution_count": 16,
      "outputs": [
        {
          "output_type": "stream",
          "name": "stdout",
          "text": [
            "Sorted list: [1, 2, 3, 5, 8]\n"
          ]
        }
      ]
    },
    {
      "cell_type": "code",
      "source": [
        "numbers = [1, 2, 2, 3, 4, 4, 5]\n",
        "duplicate_no = []\n",
        "for num in numbers:\n",
        "    if num not in duplicate_no:\n",
        "        duplicate_no.append(num)\n",
        "print(\"List after removing duplicates:\", duplicate_no)\n"
      ],
      "metadata": {
        "colab": {
          "base_uri": "https://localhost:8080/"
        },
        "id": "PTPN43f4uJ_O",
        "outputId": "e247ab86-dddf-42bf-f2b9-1c3d6ded0b7c"
      },
      "execution_count": 10,
      "outputs": [
        {
          "output_type": "stream",
          "name": "stdout",
          "text": [
            "List after removing duplicates: [1, 2, 3, 4, 5]\n"
          ]
        }
      ]
    },
    {
      "cell_type": "code",
      "source": [
        "numbers = [1, 2, 3, 4, 3, 5, 6]\n",
        "target_sum = 6\n",
        "pairs = []\n",
        "\n",
        "for i in range(len(numbers)):\n",
        "    for j in range(i + 1, len(numbers)):\n",
        "        if numbers[i] + numbers[j] == target_sum:\n",
        "            pair = (numbers[i], numbers[j])\n",
        "            if pair not in pairs and (numbers[j], numbers[i]) not in pairs:\n",
        "                pairs.append(pair)\n",
        "\n",
        "print(\"Pairs that add up to\", target_sum, \":\", pairs)\n"
      ],
      "metadata": {
        "id": "P6D2SPHj8aLb",
        "colab": {
          "base_uri": "https://localhost:8080/"
        },
        "outputId": "7d10ddfe-e2ba-427d-9cdd-4dcaddd2a56e"
      },
      "execution_count": 9,
      "outputs": [
        {
          "output_type": "stream",
          "name": "stdout",
          "text": [
            "Pairs that add up to 6 : [(1, 5), (2, 4), (3, 3)]\n"
          ]
        }
      ]
    },
    {
      "cell_type": "code",
      "source": [
        "nested_list = [1, [2, 3], [4, [5, 6], 7], 8]\n",
        "list1 = []\n",
        "\n",
        "for i in nested_list:\n",
        "    if isinstance(i, list):\n",
        "        for j in i:\n",
        "            if isinstance(j, list):\n",
        "                for k in j:\n",
        "                    print(k)\n",
        "                    list1.append(k)\n",
        "            else:\n",
        "                print(j)\n",
        "                list1.append(j)\n",
        "    else:\n",
        "        print(i)\n",
        "        list1.append(i)\n",
        "\n",
        "print(\"Flattened List:\", list1)\n"
      ],
      "metadata": {
        "id": "OgPA62AF8ZR3",
        "outputId": "c2ee6771-dc91-49a4-e337-472d98001aea",
        "colab": {
          "base_uri": "https://localhost:8080/"
        }
      },
      "execution_count": 8,
      "outputs": [
        {
          "output_type": "stream",
          "name": "stdout",
          "text": [
            "1\n",
            "2\n",
            "3\n",
            "4\n",
            "5\n",
            "6\n",
            "7\n",
            "8\n",
            "Flattened List: [1, 2, 3, 4, 5, 6, 7, 8]\n"
          ]
        }
      ]
    },
    {
      "cell_type": "code",
      "source": [
        "numbers = [1, 2, 3, 4, 5]\n",
        "small = numbers[0]\n",
        "large = numbers[0]\n",
        "\n",
        "for n in numbers:\n",
        "    if n < small:\n",
        "        small = n\n",
        "    if n > large:\n",
        "        large = n\n",
        "\n",
        "total = sum(numbers) - small - large\n",
        "print(\"Sum excluding the largest and smallest element:\", total)\n"
      ],
      "metadata": {
        "id": "ODrukAJ08ZKL",
        "colab": {
          "base_uri": "https://localhost:8080/"
        },
        "outputId": "ba208d03-e7e2-497d-9336-0e6ef0d1946b"
      },
      "execution_count": 7,
      "outputs": [
        {
          "output_type": "stream",
          "name": "stdout",
          "text": [
            "Sum excluding the largest and smallest element: 9\n"
          ]
        }
      ]
    }
  ]
}