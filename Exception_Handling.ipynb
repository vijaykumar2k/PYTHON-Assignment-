{
  "nbformat": 4,
  "nbformat_minor": 0,
  "metadata": {
    "colab": {
      "provenance": []
    },
    "kernelspec": {
      "name": "python3",
      "display_name": "Python 3"
    },
    "language_info": {
      "name": "python"
    }
  },
  "cells": [
    {
      "cell_type": "code",
      "execution_count": null,
      "metadata": {
        "id": "Pxjikpa3RkjR"
      },
      "outputs": [],
      "source": [
        "# Exception Handling\n",
        "\n",
        "# Exception => Unwanted Condition  => Terminate or Result"
      ]
    },
    {
      "cell_type": "code",
      "source": [
        "try:\n",
        "  x = 50\n",
        "  X = X/15\n",
        "  print(\"hey\")\n",
        "\n",
        "except Exception as e:        #Exception this is a class\n",
        "  print(\"error\",e)"
      ],
      "metadata": {
        "colab": {
          "base_uri": "https://localhost:8080/"
        },
        "id": "T6HXwM7tR8Zg",
        "outputId": "40c92e56-1962-401d-a429-2525d5ffa776"
      },
      "execution_count": 1,
      "outputs": [
        {
          "output_type": "stream",
          "name": "stdout",
          "text": [
            "error name 'X' is not defined\n"
          ]
        }
      ]
    },
    {
      "cell_type": "code",
      "source": [
        "try:\n",
        "  x = 50\n",
        "  x = x/15\n",
        "  print(\"hey\")\n",
        "\n",
        "except (NameError , TypeError) as e:        #Exception this is a class\n",
        "  print(\"error\",e)"
      ],
      "metadata": {
        "colab": {
          "base_uri": "https://localhost:8080/"
        },
        "id": "amD5Rp70SUEs",
        "outputId": "e4fba4a0-e4b6-45b1-8d14-d2451b44cfe9"
      },
      "execution_count": 2,
      "outputs": [
        {
          "output_type": "stream",
          "name": "stdout",
          "text": [
            "hey\n"
          ]
        }
      ]
    },
    {
      "cell_type": "code",
      "source": [
        "try:\n",
        "  x = 50\n",
        "  x = x/15\n",
        "  \"hey\"[10]\n",
        "  print(\"hey\")\n",
        "\n",
        "except (NameError , TypeError) as e:        #Exception this is a class\n",
        "  print(\"error\",e)\n",
        "\n",
        "except Exception as f:\n",
        "  print(\"all other error\",f)"
      ],
      "metadata": {
        "colab": {
          "base_uri": "https://localhost:8080/"
        },
        "id": "QFJDaJ0SSog4",
        "outputId": "a522947f-8db5-4e8f-ca84-1a10917a470b"
      },
      "execution_count": 3,
      "outputs": [
        {
          "output_type": "stream",
          "name": "stdout",
          "text": [
            "all other error string index out of range\n"
          ]
        }
      ]
    },
    {
      "cell_type": "code",
      "source": [
        "# Nested Exception/Try Handling\n",
        "\n",
        "try:\n",
        "  x = 50\n",
        "  x = x/50\n",
        "  try:\n",
        "    \"hey\"[10]\n",
        "  except:\n",
        "    print(\"Nested Error Handled\")\n",
        "  print(\"hey\")\n",
        "\n",
        "except (NameError , TypeError) as e:        #Exception this is a class\n",
        "  print(\"error\",e)"
      ],
      "metadata": {
        "colab": {
          "base_uri": "https://localhost:8080/"
        },
        "id": "ntVDb4d8TB9t",
        "outputId": "3ea090dd-50d2-4cec-d4dc-c918200966c1"
      },
      "execution_count": 4,
      "outputs": [
        {
          "output_type": "stream",
          "name": "stdout",
          "text": [
            "Nested Error Handled\n",
            "hey\n"
          ]
        }
      ]
    },
    {
      "cell_type": "code",
      "source": [
        "try:\n",
        "  x = 50\n",
        "  x = x/50\n",
        "  print(\"hey\")\n",
        "\n",
        "except (NameError , TypeError) as e:        #Exception this is a class\n",
        "  print(\"error\",e)\n",
        "else:\n",
        "  print(\"else block1\")"
      ],
      "metadata": {
        "colab": {
          "base_uri": "https://localhost:8080/"
        },
        "id": "nAOWJS4ITB2N",
        "outputId": "361005b1-099d-40f8-bcc7-fd55d8483c48"
      },
      "execution_count": 5,
      "outputs": [
        {
          "output_type": "stream",
          "name": "stdout",
          "text": [
            "hey\n",
            "else block1\n"
          ]
        }
      ]
    },
    {
      "cell_type": "code",
      "source": [
        "try:\n",
        "    a = 9\n",
        "    if a < 10:\n",
        "        raise ValueError\n",
        "    else:\n",
        "        print(\"A Value\", a)\n",
        "except:\n",
        "    print(\"Value Error to be handled\")\n"
      ],
      "metadata": {
        "colab": {
          "base_uri": "https://localhost:8080/"
        },
        "id": "sSTTIQz4TwXu",
        "outputId": "ee9c7135-cf12-4fad-bd81-592aa6e32eda"
      },
      "execution_count": 8,
      "outputs": [
        {
          "output_type": "stream",
          "name": "stdout",
          "text": [
            "Value Error to be handled\n"
          ]
        }
      ]
    }
  ]
}