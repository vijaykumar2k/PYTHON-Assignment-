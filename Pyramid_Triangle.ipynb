{
  "nbformat": 4,
  "nbformat_minor": 0,
  "metadata": {
    "colab": {
      "provenance": []
    },
    "kernelspec": {
      "name": "python3",
      "display_name": "Python 3"
    },
    "language_info": {
      "name": "python"
    }
  },
  "cells": [
    {
      "cell_type": "code",
      "source": [
        "for i in range(5):\n",
        "    for col in range(5 - i - 1):\n",
        "        print(\" \", end=\"\")\n",
        "    for k in range(i + 1):\n",
        "        print(\"* \", end=\"\")\n",
        "\n",
        "    print()"
      ],
      "metadata": {
        "id": "2NNBqQaBY9nw",
        "colab": {
          "base_uri": "https://localhost:8080/"
        },
        "outputId": "13be7ce5-b371-482a-a577-3dc2f486332b"
      },
      "execution_count": 75,
      "outputs": [
        {
          "output_type": "stream",
          "name": "stdout",
          "text": [
            "    * \n",
            "   * * \n",
            "  * * * \n",
            " * * * * \n",
            "* * * * * \n"
          ]
        }
      ]
    },
    {
      "cell_type": "code",
      "source": [
        "for i in range(5):\n",
        "    for col in range(i):\n",
        "        print(\" \", end=\"\")\n",
        "    for k in range(1 * (5 - i)):\n",
        "        print(\"* \", end=\"\")\n",
        "\n",
        "    print()"
      ],
      "metadata": {
        "id": "Ag9nvKqlY9qG",
        "colab": {
          "base_uri": "https://localhost:8080/"
        },
        "outputId": "0a441481-0cbe-4b64-ca9a-dcbcb7785b93"
      },
      "execution_count": 34,
      "outputs": [
        {
          "output_type": "stream",
          "name": "stdout",
          "text": [
            "* * * * * \n",
            " * * * * \n",
            "  * * * \n",
            "   * * \n",
            "    * \n"
          ]
        }
      ]
    },
    {
      "cell_type": "code",
      "source": [
        "for i in range(5):\n",
        "    for col in range(i):\n",
        "        print(\"\", end=\"\")\n",
        "    for k in range(1 * (5 - i)):\n",
        "        print(\"* \", end=\"\")\n",
        "\n",
        "    print()"
      ],
      "metadata": {
        "colab": {
          "base_uri": "https://localhost:8080/"
        },
        "id": "ibnAGMULTsz7",
        "outputId": "2b9082bd-a4ec-447c-eda6-bd308c033e8f"
      },
      "execution_count": 79,
      "outputs": [
        {
          "output_type": "stream",
          "name": "stdout",
          "text": [
            "* * * * * \n",
            "* * * * \n",
            "* * * \n",
            "* * \n",
            "* \n"
          ]
        }
      ]
    },
    {
      "cell_type": "code",
      "source": [
        "for i in range(2,6):\n",
        "    for col in range(i):\n",
        "        print(\"* \", end=\"\")\n",
        "    print()\n"
      ],
      "metadata": {
        "id": "wkGK1IGgY9sb",
        "colab": {
          "base_uri": "https://localhost:8080/"
        },
        "outputId": "43355c28-bfe6-47be-a047-96a380e6f95d"
      },
      "execution_count": 30,
      "outputs": [
        {
          "output_type": "stream",
          "name": "stdout",
          "text": [
            "* * \n",
            "* * * \n",
            "* * * * \n",
            "* * * * * \n"
          ]
        }
      ]
    },
    {
      "cell_type": "code",
      "source": [
        "for i in range(5, 0, -1):\n",
        "    for col in range(i):\n",
        "        print(\"* \", end=\"\")\n",
        "    print()\n",
        "\n",
        "for i in range(2, 6):\n",
        "    for col in range(i):\n",
        "        print(\"* \", end=\"\")\n",
        "    print()\n"
      ],
      "metadata": {
        "id": "iPDWlvs5Y9uz",
        "colab": {
          "base_uri": "https://localhost:8080/"
        },
        "outputId": "f65d78c5-8526-41dc-f089-3327c7da10fb"
      },
      "execution_count": 38,
      "outputs": [
        {
          "output_type": "stream",
          "name": "stdout",
          "text": [
            "* * * * * \n",
            "* * * * \n",
            "* * * \n",
            "* * \n",
            "* \n",
            "* * \n",
            "* * * \n",
            "* * * * \n",
            "* * * * * \n"
          ]
        }
      ]
    },
    {
      "cell_type": "code",
      "source": [
        "for i in range(1,6):\n",
        "  for col in range(2,i+1):\n",
        "    print(\" \",end=\" \")\n",
        "  for k in range(i,6):\n",
        "    print(\"*\",end=\" \")\n",
        "  print()"
      ],
      "metadata": {
        "id": "KuUuGtvjY9w-",
        "colab": {
          "base_uri": "https://localhost:8080/"
        },
        "outputId": "c23753b4-4d44-44de-e172-3fbd6f9e5b42"
      },
      "execution_count": 69,
      "outputs": [
        {
          "output_type": "stream",
          "name": "stdout",
          "text": [
            "* * * * * \n",
            "  * * * * \n",
            "    * * * \n",
            "      * * \n",
            "        * \n"
          ]
        }
      ]
    },
    {
      "cell_type": "code",
      "source": [
        "for i in range(2,6):\n",
        "  for col in range(i,5):\n",
        "    print(\" \",end=\" \")\n",
        "\n",
        "  for k in range(1,i+1):\n",
        "    print(\"*\",end=\" \")\n",
        "  print()"
      ],
      "metadata": {
        "id": "3fdEAU9sY9zF",
        "colab": {
          "base_uri": "https://localhost:8080/"
        },
        "outputId": "81ebfa19-ad75-4808-e9c5-b2fea665764f"
      },
      "execution_count": 71,
      "outputs": [
        {
          "output_type": "stream",
          "name": "stdout",
          "text": [
            "      * * \n",
            "    * * * \n",
            "  * * * * \n",
            "* * * * * \n"
          ]
        }
      ]
    },
    {
      "cell_type": "code",
      "source": [
        "for i in range(1,6):\n",
        "  for col in range(2,i+1):\n",
        "    print(\" \",end=\" \")\n",
        "  for k in range(i,6):\n",
        "    print(\"*\",end=\" \")\n",
        "  print()\n",
        "\n",
        "for i in range(2,6):\n",
        "  for col in range(i,5):\n",
        "    print(\" \",end=\" \")\n",
        "  for k in range(1,i+1):\n",
        "    print(\"*\",end=\" \")\n",
        "  print()"
      ],
      "metadata": {
        "id": "0srSXYlWY92J",
        "colab": {
          "base_uri": "https://localhost:8080/"
        },
        "outputId": "64db0f37-507b-4725-a6dc-2b9ba9033658"
      },
      "execution_count": 68,
      "outputs": [
        {
          "output_type": "stream",
          "name": "stdout",
          "text": [
            "* * * * * \n",
            "  * * * * \n",
            "    * * * \n",
            "      * * \n",
            "        * \n",
            "      * * \n",
            "    * * * \n",
            "  * * * * \n",
            "* * * * * \n"
          ]
        }
      ]
    }
  ]
}