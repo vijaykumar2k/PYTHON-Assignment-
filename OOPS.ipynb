{
  "nbformat": 4,
  "nbformat_minor": 0,
  "metadata": {
    "colab": {
      "provenance": []
    },
    "kernelspec": {
      "name": "python3",
      "display_name": "Python 3"
    },
    "language_info": {
      "name": "python"
    }
  },
  "cells": [
    {
      "cell_type": "code",
      "execution_count": null,
      "metadata": {
        "id": "RhSRAuqVa-6x"
      },
      "outputs": [],
      "source": [
        "# Objects And Classes"
      ]
    },
    {
      "cell_type": "code",
      "source": [
        "# OBJECTS : Real time entity\n",
        "#                             Characteristics and Behaviour"
      ],
      "metadata": {
        "id": "dt445jG4Ic5H"
      },
      "execution_count": null,
      "outputs": []
    },
    {
      "cell_type": "code",
      "source": [
        "# from tempfile import template\n",
        "# Class : template\n",
        "# Objects  => Under the class"
      ],
      "metadata": {
        "id": "_4sCL9YIIuOl"
      },
      "execution_count": null,
      "outputs": []
    },
    {
      "cell_type": "code",
      "source": [
        "b1color = \"yellow\"\n",
        "b1name = \"Splendor\"\n",
        "\n",
        "b2color = \"Black\"\n",
        "b2name = \"Shine\"\n",
        "\n",
        "b1 = [\"yellow\",\"Splendor\"]"
      ],
      "metadata": {
        "id": "pnjRV1rRI4ow"
      },
      "execution_count": null,
      "outputs": []
    },
    {
      "cell_type": "code",
      "source": [
        "# OOPS  :   Objects Oriented Programming Structure"
      ],
      "metadata": {
        "id": "8efWO-FJJBsx"
      },
      "execution_count": null,
      "outputs": []
    },
    {
      "cell_type": "code",
      "source": [
        "# Classes And Objects\n",
        "\n",
        "# Bike , Color , Bikename , price\n",
        "# Template\n",
        "# Blue Print   => Characteristics and behaviour"
      ],
      "metadata": {
        "id": "kGOv4ZX5JYqU"
      },
      "execution_count": null,
      "outputs": []
    },
    {
      "cell_type": "code",
      "source": [
        "# Variables\n",
        "# Function"
      ],
      "metadata": {
        "id": "VYSAJ9mMJ5fj"
      },
      "execution_count": null,
      "outputs": []
    },
    {
      "cell_type": "code",
      "source": [
        "class Bike_template:\n",
        "    color = \"Yellow\"\n",
        "    name = \"Splendor\"\n",
        "\n",
        "\n",
        "b1 = Bike_template()          #b1 is object\n",
        "print(b1.name)"
      ],
      "metadata": {
        "colab": {
          "base_uri": "https://localhost:8080/"
        },
        "id": "s0VRCyiFKGAa",
        "outputId": "dcdac921-469e-4958-b22f-dbd6608955a0"
      },
      "execution_count": null,
      "outputs": [
        {
          "output_type": "stream",
          "name": "stdout",
          "text": [
            "Splendor\n"
          ]
        }
      ]
    },
    {
      "cell_type": "code",
      "source": [
        "b1 = Bike_template()\n",
        "b1.color =\"red\"\n",
        "b1.color\n",
        "\n",
        "b2 = Bike_template()\n",
        "b2.color"
      ],
      "metadata": {
        "colab": {
          "base_uri": "https://localhost:8080/",
          "height": 35
        },
        "id": "l2rEoEmMKnCL",
        "outputId": "1d32c6f2-feb4-4718-b5f8-adabdf574855"
      },
      "execution_count": null,
      "outputs": [
        {
          "output_type": "execute_result",
          "data": {
            "text/plain": [
              "'Yellow'"
            ],
            "application/vnd.google.colaboratory.intrinsic+json": {
              "type": "string"
            }
          },
          "metadata": {},
          "execution_count": 12
        }
      ]
    },
    {
      "cell_type": "code",
      "source": [
        "class Bike_template:\n",
        "    color = \"Yellow\"\n",
        "    name = \"Splendor\"\n",
        "\n",
        "    def info(self):\n",
        "      print(self.color, \"Bike_template:\", self.name)\n",
        "\n",
        "b1 = Bike_template()\n",
        "b1.color = \"red\"\n",
        "b1.info()"
      ],
      "metadata": {
        "colab": {
          "base_uri": "https://localhost:8080/"
        },
        "id": "7xZZJND5KnAM",
        "outputId": "42d6986b-4f2e-4f16-f106-a1aa3fdf7ee6"
      },
      "execution_count": null,
      "outputs": [
        {
          "output_type": "stream",
          "name": "stdout",
          "text": [
            "red Bike_template: Splendor\n"
          ]
        }
      ]
    },
    {
      "cell_type": "code",
      "source": [
        "# CONSTRUCTOR =>  constructor is a function which is used to create or initialize for a memory and object"
      ],
      "metadata": {
        "id": "CVhcAdvqKm9y"
      },
      "execution_count": null,
      "outputs": []
    },
    {
      "cell_type": "code",
      "source": [
        "class Bike_template:\n",
        "    def __init__(self):\n",
        "      print(\"Constructor\")\n",
        "\n",
        "b1 = Bike_template()\n",
        "print(\"b1:\", b1)"
      ],
      "metadata": {
        "colab": {
          "base_uri": "https://localhost:8080/"
        },
        "id": "fvyK6dCHKm7Q",
        "outputId": "f51cbb8d-1e3e-4548-d9f0-68bf121a5385"
      },
      "execution_count": null,
      "outputs": [
        {
          "output_type": "stream",
          "name": "stdout",
          "text": [
            "Constructor\n",
            "b1: <__main__.Bike_template object at 0x7ca7564f1990>\n"
          ]
        }
      ]
    },
    {
      "cell_type": "code",
      "source": [
        "class Bike_template:\n",
        "    def __init__(self):\n",
        "      print(\"Calling Constructor\")\n",
        "\n",
        "b1 = Bike_template()\n",
        "print(\"b1:\", b1)"
      ],
      "metadata": {
        "colab": {
          "base_uri": "https://localhost:8080/"
        },
        "id": "dNEgaf8zMDS-",
        "outputId": "4f4dca47-3868-47c9-d047-e40a7f014d9d"
      },
      "execution_count": null,
      "outputs": [
        {
          "output_type": "stream",
          "name": "stdout",
          "text": [
            "Calling Constructor\n",
            "b1: <__main__.Bike_template object at 0x7ca7564a4190>\n"
          ]
        }
      ]
    },
    {
      "cell_type": "code",
      "source": [
        "# There are two types of constructor\n",
        "# 1. Default Constructor\n",
        "# 2. Parameterized Constructor"
      ],
      "metadata": {
        "id": "bYVxW3uCMDQ-"
      },
      "execution_count": null,
      "outputs": []
    },
    {
      "cell_type": "code",
      "source": [
        "class Bike_template:\n",
        "    def __init__(self, a):\n",
        "        self.color = a\n",
        "\n",
        "    def info(self):\n",
        "        print(self.color)\n",
        "\n",
        "b1 = Bike_template(\"Red\")\n",
        "b1.info()\n",
        "print(\"a:\", b1.color)"
      ],
      "metadata": {
        "colab": {
          "base_uri": "https://localhost:8080/"
        },
        "id": "PYUMlkw4MDOj",
        "outputId": "1e61b52c-7052-4139-f283-7c9de15f24e3"
      },
      "execution_count": null,
      "outputs": [
        {
          "output_type": "stream",
          "name": "stdout",
          "text": [
            "Red\n",
            "a: Red\n"
          ]
        }
      ]
    },
    {
      "cell_type": "code",
      "source": [
        "# CLASS VARIABLE : A class variable is shared by all objects of the class.\n",
        "#                  It is defined inside the class but outside any method"
      ],
      "metadata": {
        "id": "Ut-t27EENlKe"
      },
      "execution_count": null,
      "outputs": []
    },
    {
      "cell_type": "code",
      "source": [
        "class Bike_template:\n",
        "  company = \"Yellow\"\n",
        "  def __init__(self, a):\n",
        "    self.color = a\n",
        "\n",
        "b1 = Bike_template(\"red\")\n",
        "print(b1.company)\n",
        "print(Bike_template.company)"
      ],
      "metadata": {
        "colab": {
          "base_uri": "https://localhost:8080/"
        },
        "id": "aMlE88fXNjl-",
        "outputId": "e8ce9985-6a1a-4b00-9644-e33797d9261a"
      },
      "execution_count": null,
      "outputs": [
        {
          "output_type": "stream",
          "name": "stdout",
          "text": [
            "Yellow\n",
            "Yellow\n"
          ]
        }
      ]
    },
    {
      "cell_type": "code",
      "source": [
        "class Bike_template:\n",
        "  company = \"Yashraj\"\n",
        "  def __init__(self, a):\n",
        "    self.color = a\n",
        "\n",
        "b1 = Bike_template(\"red\")\n",
        "print(b1.company)\n",
        "Bike_template.company = \"Vijay\"\n",
        "print(Bike_template.company)"
      ],
      "metadata": {
        "colab": {
          "base_uri": "https://localhost:8080/"
        },
        "id": "_SwZaJO6Njim",
        "outputId": "2e2d16c7-fb4a-40de-cc3f-e5fce32b45c1"
      },
      "execution_count": null,
      "outputs": [
        {
          "output_type": "stream",
          "name": "stdout",
          "text": [
            "Yashraj\n",
            "Vijay\n"
          ]
        }
      ]
    }
  ]
}