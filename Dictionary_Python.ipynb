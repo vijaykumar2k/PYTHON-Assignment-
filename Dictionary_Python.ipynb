{
  "nbformat": 4,
  "nbformat_minor": 0,
  "metadata": {
    "colab": {
      "provenance": []
    },
    "kernelspec": {
      "name": "python3",
      "display_name": "Python 3"
    },
    "language_info": {
      "name": "python"
    }
  },
  "cells": [
    {
      "cell_type": "code",
      "execution_count": null,
      "metadata": {
        "colab": {
          "base_uri": "https://localhost:8080/"
        },
        "id": "fa0bkC7dLAxs",
        "outputId": "a2903fe8-9c52-4a44-b4a7-329e0b49e216"
      },
      "outputs": [
        {
          "output_type": "stream",
          "name": "stdout",
          "text": [
            "{'total': 5}\n"
          ]
        }
      ],
      "source": [
        "# Dictionary => Datatype , use to store data but\n",
        "\n",
        "'''\n",
        "Without index position\n",
        "data is  store => key, values\n",
        "key is unique\n",
        "values can be unique/ duplicate\n",
        "Dictionary are mutatable\n",
        "- No index position\n",
        "key => data ( unique )\n",
        "-- bill no: 101\n",
        "-- 101 => product? , kitna , kab (value)\n",
        "key:value\n",
        "Dictionary => why we create it\n",
        "\n",
        "'''"
      ]
    },
    {
      "cell_type": "code",
      "source": [
        "mydic={101:\"vijay\",\"salary\": 200000, \"email\": \"vijay@gmail.com\"}\n",
        "print(mydic)"
      ],
      "metadata": {
        "id": "zUar1x1-MbFd",
        "outputId": "97bd69b0-018b-434a-f2e3-e986da50b209",
        "colab": {
          "base_uri": "https://localhost:8080/"
        }
      },
      "execution_count": null,
      "outputs": [
        {
          "output_type": "stream",
          "name": "stdout",
          "text": [
            "{101: 'vijay', 'salary': 200000, 'email': 'vijay@gmail.com'}\n"
          ]
        }
      ]
    },
    {
      "cell_type": "code",
      "source": [
        "mydic={101:\"vijay\",\"salary\": 200000, \"email\": \"vijay@gmail.com\"}\n",
        "print(mydic['email'])"
      ],
      "metadata": {
        "colab": {
          "base_uri": "https://localhost:8080/"
        },
        "id": "tXVNoJFbEHaM",
        "outputId": "7448cb34-9c7c-4d53-fc45-0e6b5bd49872"
      },
      "execution_count": null,
      "outputs": [
        {
          "output_type": "stream",
          "name": "stdout",
          "text": [
            "vijay@gmail.com\n"
          ]
        }
      ]
    },
    {
      "cell_type": "code",
      "source": [
        "mydic={101:\"vijay\",\"salary\": 200000, \"email\": \"vijay@gmail.com\"}\n",
        "print(mydic['email'])\n",
        "mydic[\"email\"]=\"kumarvijay@gmail.com\"         #update\n",
        "print(mydic)"
      ],
      "metadata": {
        "colab": {
          "base_uri": "https://localhost:8080/"
        },
        "id": "sft_62F9Ebmz",
        "outputId": "42677456-7fd0-4936-bbfb-cc453a753e49"
      },
      "execution_count": null,
      "outputs": [
        {
          "output_type": "stream",
          "name": "stdout",
          "text": [
            "vijay@gmail.com\n",
            "{101: 'vijay', 'salary': 200000, 'email': 'kumarvijay@gmail.com'}\n"
          ]
        }
      ]
    },
    {
      "cell_type": "code",
      "source": [
        "mydic={101:\"vijay\",\"salary\": 200000, \"email\": \"vijay@gmail.com\"}\n",
        "print(mydic['email'])\n",
        "mydic[\"email\"]=\"kumarvijay@gmail.com\"         #update\n",
        "print(mydic)\n",
        "\n",
        "mydic[\"add\"]=\"jaipur\"       #insert"
      ],
      "metadata": {
        "colab": {
          "base_uri": "https://localhost:8080/"
        },
        "id": "V_M0uSK8EblA",
        "outputId": "852b0a25-b670-4e77-a1c2-d48e6385f33b"
      },
      "execution_count": null,
      "outputs": [
        {
          "output_type": "stream",
          "name": "stdout",
          "text": [
            "vijay@gmail.com\n",
            "{101: 'vijay', 'salary': 200000, 'email': 'kumarvijay@gmail.com'}\n"
          ]
        }
      ]
    },
    {
      "cell_type": "code",
      "source": [
        "mydic={10:\"yash\"}\n",
        "mydic[20]=\"abc\"   #insert\n",
        "mydic[10]=\"new yash\"    #update\n",
        "\n",
        "print(mydic)\n",
        "mydic.keys()"
      ],
      "metadata": {
        "colab": {
          "base_uri": "https://localhost:8080/"
        },
        "id": "KmcrPDVHEbh7",
        "outputId": "0f84ce7d-c0fe-4026-f725-3c62cb2d8d46"
      },
      "execution_count": null,
      "outputs": [
        {
          "output_type": "stream",
          "name": "stdout",
          "text": [
            "{10: 'new yash', 20: 'abc'}\n"
          ]
        },
        {
          "output_type": "execute_result",
          "data": {
            "text/plain": [
              "dict_keys([10, 20])"
            ]
          },
          "metadata": {},
          "execution_count": 7
        }
      ]
    },
    {
      "cell_type": "code",
      "source": [
        "mydic.values()"
      ],
      "metadata": {
        "colab": {
          "base_uri": "https://localhost:8080/"
        },
        "id": "DpqYfOzOGLx2",
        "outputId": "5122b66f-c6a9-4d9f-b0b4-385613b89eec"
      },
      "execution_count": null,
      "outputs": [
        {
          "output_type": "execute_result",
          "data": {
            "text/plain": [
              "dict_values(['new yash', 'abc'])"
            ]
          },
          "metadata": {},
          "execution_count": 8
        }
      ]
    },
    {
      "cell_type": "code",
      "source": [
        "mydic"
      ],
      "metadata": {
        "colab": {
          "base_uri": "https://localhost:8080/"
        },
        "id": "xRJuhp2sGQTD",
        "outputId": "3dbaf82e-52e7-4acd-feeb-c6c905031935"
      },
      "execution_count": null,
      "outputs": [
        {
          "output_type": "execute_result",
          "data": {
            "text/plain": [
              "{10: 'new yash', 20: 'abc'}"
            ]
          },
          "metadata": {},
          "execution_count": 9
        }
      ]
    },
    {
      "cell_type": "code",
      "source": [
        "x = mydic.pop(10, \"new yash\")\n",
        "print(mydic, x)\n"
      ],
      "metadata": {
        "colab": {
          "base_uri": "https://localhost:8080/"
        },
        "id": "V38aLrjdGQPh",
        "outputId": "531d902f-1c75-41e6-9f15-c6c168fd3911"
      },
      "execution_count": null,
      "outputs": [
        {
          "output_type": "stream",
          "name": "stdout",
          "text": [
            "{20: 'abc'} new yash\n"
          ]
        }
      ]
    },
    {
      "cell_type": "code",
      "source": [
        "mydic={10:\"a\",20:\"b\"}\n",
        "for i in mydic:\n",
        "    print(i, mydic[i])"
      ],
      "metadata": {
        "colab": {
          "base_uri": "https://localhost:8080/"
        },
        "id": "3uI77AoCGQJr",
        "outputId": "bdbbf6b4-f5ec-4024-e248-0387af754865"
      },
      "execution_count": null,
      "outputs": [
        {
          "output_type": "stream",
          "name": "stdout",
          "text": [
            "10 a\n",
            "20 b\n"
          ]
        }
      ]
    },
    {
      "cell_type": "code",
      "source": [
        "mydic={10:\"a\",20:\"b\"}\n",
        "for i in mydic.keys():\n",
        "    print(i, mydic[i])"
      ],
      "metadata": {
        "colab": {
          "base_uri": "https://localhost:8080/"
        },
        "id": "dSUWmvaMGQGo",
        "outputId": "08469273-9754-4db6-8a42-1272a31bf1f8"
      },
      "execution_count": null,
      "outputs": [
        {
          "output_type": "stream",
          "name": "stdout",
          "text": [
            "10 a\n",
            "20 b\n"
          ]
        }
      ]
    },
    {
      "cell_type": "code",
      "source": [
        "mydic={10:\"a\",20:\"b\"}\n",
        "for i in mydic.values():\n",
        "    print(i)"
      ],
      "metadata": {
        "colab": {
          "base_uri": "https://localhost:8080/"
        },
        "id": "l2nMDsbNGQF3",
        "outputId": "bd12d678-5234-4cea-cdc4-4f201e253632"
      },
      "execution_count": null,
      "outputs": [
        {
          "output_type": "stream",
          "name": "stdout",
          "text": [
            "a\n",
            "b\n"
          ]
        }
      ]
    },
    {
      "cell_type": "code",
      "source": [
        "mydic={10:\"a\",\"amount\":100}\n",
        "mydic[\"amount\"]= mydic[\"amount\"]+5\n",
        "print(mydic)"
      ],
      "metadata": {
        "colab": {
          "base_uri": "https://localhost:8080/"
        },
        "id": "1LPT1HKvGQCt",
        "outputId": "2e42fc0d-b314-48f0-a760-23e661536699"
      },
      "execution_count": null,
      "outputs": [
        {
          "output_type": "stream",
          "name": "stdout",
          "text": [
            "{10: 'a', 'amount': 105}\n"
          ]
        }
      ]
    },
    {
      "cell_type": "code",
      "source": [
        "s=\"abc\"\n",
        "\n",
        "mydic={}\n",
        "for i in \"abc\":\n",
        "  mydic[i]=1\n",
        "\n",
        "print(mydic)"
      ],
      "metadata": {
        "colab": {
          "base_uri": "https://localhost:8080/"
        },
        "id": "ijmAKP51IlAo",
        "outputId": "7bc4a484-3bd9-4c9d-fbf0-fff4b697337c"
      },
      "execution_count": null,
      "outputs": [
        {
          "output_type": "stream",
          "name": "stdout",
          "text": [
            "{'a': 1, 'b': 1, 'c': 1}\n"
          ]
        }
      ]
    },
    {
      "cell_type": "code",
      "source": [
        "mylist = [10, 20, 30, 40, 50]\n",
        "start = 0\n",
        "end = len(mylist) - 1\n",
        "\n",
        "print(start, end, mylist[start], mylist[end])\n",
        "\n",
        "temp = mylist[start]\n",
        "mylist[start] = mylist[end]\n",
        "mylist[end] = temp\n",
        "\n",
        "print(start, end, mylist[start], mylist[end])\n"
      ],
      "metadata": {
        "colab": {
          "base_uri": "https://localhost:8080/"
        },
        "id": "XdyKdtrFKV5K",
        "outputId": "80df6e2f-480a-42f2-b171-6ceda506b653"
      },
      "execution_count": null,
      "outputs": [
        {
          "output_type": "stream",
          "name": "stdout",
          "text": [
            "0 4 10 50\n",
            "0 4 50 10\n"
          ]
        }
      ]
    },
    {
      "cell_type": "code",
      "source": [
        "mylist = [10, 20, 30, 40, 50]\n",
        "start = 0\n",
        "end = len(mylist) - 1\n",
        "\n",
        "while start < end:\n",
        "    temp = mylist[start]\n",
        "    mylist[start] = mylist[end]\n",
        "    mylist[end] = temp\n",
        "\n",
        "    start += 1\n",
        "    end -= 1\n",
        "\n",
        "print(mylist)\n"
      ],
      "metadata": {
        "colab": {
          "base_uri": "https://localhost:8080/"
        },
        "id": "DYODG8PxVfSw",
        "outputId": "7ed9f4d7-3c2c-4d99-c2e2-04393d622d5d"
      },
      "execution_count": null,
      "outputs": [
        {
          "output_type": "stream",
          "name": "stdout",
          "text": [
            "[50, 40, 30, 20, 10]\n"
          ]
        }
      ]
    },
    {
      "cell_type": "code",
      "source": [
        "mylist= [ 10,3,20,5,30,40,50]\n",
        "for i in range (0 ,len(mylist)):\n",
        "\n",
        "  for j in range (i+1,len(mylist)):\n",
        "    print(i,j,mylist[i],mylist[j])"
      ],
      "metadata": {
        "colab": {
          "base_uri": "https://localhost:8080/"
        },
        "id": "QSFR9gHsV-0b",
        "outputId": "be62d595-56fc-42d2-d556-98f478a1f858"
      },
      "execution_count": null,
      "outputs": [
        {
          "output_type": "stream",
          "name": "stdout",
          "text": [
            "0 1 10 3\n",
            "0 2 10 20\n",
            "0 3 10 5\n",
            "0 4 10 30\n",
            "0 5 10 40\n",
            "0 6 10 50\n",
            "1 2 3 20\n",
            "1 3 3 5\n",
            "1 4 3 30\n",
            "1 5 3 40\n",
            "1 6 3 50\n",
            "2 3 20 5\n",
            "2 4 20 30\n",
            "2 5 20 40\n",
            "2 6 20 50\n",
            "3 4 5 30\n",
            "3 5 5 40\n",
            "3 6 5 50\n",
            "4 5 30 40\n",
            "4 6 30 50\n",
            "5 6 40 50\n"
          ]
        }
      ]
    },
    {
      "cell_type": "code",
      "source": [
        "mylist = [10, 3, 20, 5, 30, 40, 50]\n",
        "\n",
        "for i in range(0, len(mylist)):\n",
        "    for j in range(i + 1, len(mylist)):\n",
        "        print(i, j, mylist[i], mylist[j])\n",
        "        if mylist[i] > mylist[j]:\n",
        "            # Swap\n",
        "            temp = mylist[i]\n",
        "            mylist[i] = mylist[j]\n",
        "            mylist[j] = temp\n",
        "            print(\"after change =>\", i, j, mylist[i], mylist[j])\n",
        "\n",
        "print(\"Sorted list:\", mylist)\n"
      ],
      "metadata": {
        "colab": {
          "base_uri": "https://localhost:8080/"
        },
        "id": "fXiHVDUHWjNk",
        "outputId": "17db5486-6b91-48b2-9ac6-ec5827ae6b91"
      },
      "execution_count": null,
      "outputs": [
        {
          "output_type": "stream",
          "name": "stdout",
          "text": [
            "0 1 10 3\n",
            "after change => 0 1 3 10\n",
            "0 2 3 20\n",
            "0 3 3 5\n",
            "0 4 3 30\n",
            "0 5 3 40\n",
            "0 6 3 50\n",
            "1 2 10 20\n",
            "1 3 10 5\n",
            "after change => 1 3 5 10\n",
            "1 4 5 30\n",
            "1 5 5 40\n",
            "1 6 5 50\n",
            "2 3 20 10\n",
            "after change => 2 3 10 20\n",
            "2 4 10 30\n",
            "2 5 10 40\n",
            "2 6 10 50\n",
            "3 4 20 30\n",
            "3 5 20 40\n",
            "3 6 20 50\n",
            "4 5 30 40\n",
            "4 6 30 50\n",
            "5 6 40 50\n",
            "Sorted list: [3, 5, 10, 20, 30, 40, 50]\n"
          ]
        }
      ]
    },
    {
      "cell_type": "code",
      "source": [
        "mylist = [10, 3, 20, 5, 30, 40, 50]\n",
        "\n",
        "for i in range(0, len(mylist)):\n",
        "    for j in range(i + 1, len(mylist)):\n",
        "        print(i, j, mylist[i], mylist[j])\n",
        "        if mylist[i] > mylist[j]:\n",
        "            # Swap\n",
        "            temp = mylist[i]\n",
        "            mylist[i] = mylist[j]\n",
        "            mylist[j] = temp\n",
        "            print(\"after change =>\", i, j, mylist[i], mylist[j])\n",
        "\n",
        "print(\"Sorted list:\", mylist)\n"
      ],
      "metadata": {
        "colab": {
          "base_uri": "https://localhost:8080/"
        },
        "id": "kM8Ws7aMXOrC",
        "outputId": "4b7d5c23-dcfa-4030-8d28-e4d04ff14697"
      },
      "execution_count": null,
      "outputs": [
        {
          "output_type": "stream",
          "name": "stdout",
          "text": [
            "0 1 10 3\n",
            "after change => 0 1 3 10\n",
            "0 2 3 20\n",
            "0 3 3 5\n",
            "0 4 3 30\n",
            "0 5 3 40\n",
            "0 6 3 50\n",
            "1 2 10 20\n",
            "1 3 10 5\n",
            "after change => 1 3 5 10\n",
            "1 4 5 30\n",
            "1 5 5 40\n",
            "1 6 5 50\n",
            "2 3 20 10\n",
            "after change => 2 3 10 20\n",
            "2 4 10 30\n",
            "2 5 10 40\n",
            "2 6 10 50\n",
            "3 4 20 30\n",
            "3 5 20 40\n",
            "3 6 20 50\n",
            "4 5 30 40\n",
            "4 6 30 50\n",
            "5 6 40 50\n",
            "Sorted list: [3, 5, 10, 20, 30, 40, 50]\n"
          ]
        }
      ]
    },
    {
      "cell_type": "code",
      "source": [
        "nested_list = [1, [2, 3], [4, [5, 6], 7], 8]\n",
        "list1 = []\n",
        "\n",
        "for i in nested_list:\n",
        "    if isinstance(i, list):\n",
        "        for j in i:\n",
        "            if isinstance(j, list):\n",
        "                for k in j:\n",
        "                    print(k)\n",
        "                    list1.append(k)\n",
        "            else:\n",
        "                print(j)\n",
        "                list1.append(j)\n",
        "    else:\n",
        "        print(i)\n",
        "        list1.append(i)\n",
        "\n",
        "print(\"Flattened List:\", list1)\n"
      ],
      "metadata": {
        "colab": {
          "base_uri": "https://localhost:8080/"
        },
        "id": "eQrGWX_mL-BF",
        "outputId": "a79cb189-167f-4478-c9a7-7f7565af2316"
      },
      "execution_count": null,
      "outputs": [
        {
          "output_type": "stream",
          "name": "stdout",
          "text": [
            "1\n",
            "2\n",
            "3\n",
            "4\n",
            "5\n",
            "6\n",
            "7\n",
            "8\n",
            "Flattened List: [1, 2, 3, 4, 5, 6, 7, 8]\n"
          ]
        }
      ]
    },
    {
      "cell_type": "code",
      "source": [
        "mydictionary={1:\"hey\", 2: \"Aman\"}\n",
        "print(mydictionary)"
      ],
      "metadata": {
        "colab": {
          "base_uri": "https://localhost:8080/"
        },
        "id": "HOydo0nVl1om",
        "outputId": "b5565b2a-d20e-4d0d-846c-ef75e4ac3d15"
      },
      "execution_count": null,
      "outputs": [
        {
          "output_type": "stream",
          "name": "stdout",
          "text": [
            "{1: 'hey', 2: 'Aman'}\n"
          ]
        }
      ]
    },
    {
      "cell_type": "code",
      "source": [
        "mydictionary={1:[\"Aman\", \"aman@gmail.com\"]}\n",
        "print(mydictionary[1])"
      ],
      "metadata": {
        "colab": {
          "base_uri": "https://localhost:8080/"
        },
        "id": "iFJSlW5rl1TW",
        "outputId": "74b8f84e-4015-4955-a102-32f409f29742"
      },
      "execution_count": null,
      "outputs": [
        {
          "output_type": "stream",
          "name": "stdout",
          "text": [
            "['Aman', 'aman@gmail.com']\n"
          ]
        }
      ]
    },
    {
      "cell_type": "code",
      "source": [
        "mylist = [10,20,10,40,50,30,50]\n",
        "mydictionary ={}\n",
        "for i in mylist:\n",
        "   mydictionary[i] = 1\n",
        "\n",
        "print(mydictionary)"
      ],
      "metadata": {
        "colab": {
          "base_uri": "https://localhost:8080/"
        },
        "id": "3FPzKqr-B6fX",
        "outputId": "5acb3019-1500-4f9a-ad81-4e0cfe897d1c"
      },
      "execution_count": null,
      "outputs": [
        {
          "output_type": "stream",
          "name": "stdout",
          "text": [
            "{10: 1, 20: 1, 40: 1, 50: 1, 30: 1}\n"
          ]
        }
      ]
    },
    {
      "cell_type": "code",
      "source": [
        "mylist = [10,20,10,40,50,30,50]\n",
        "mydictionary ={}\n",
        "for i in mylist:\n",
        "   if (i in mydictionary):\n",
        "      mydictionary[i] = mydictionary[i]+1\n",
        "   else:\n",
        "     mydictionary[i] = 1\n",
        "\n",
        "print(mydictionary)"
      ],
      "metadata": {
        "colab": {
          "base_uri": "https://localhost:8080/"
        },
        "id": "nz3B0NiTB_3L",
        "outputId": "53230db0-6c87-4d8b-accd-af5be304c742"
      },
      "execution_count": null,
      "outputs": [
        {
          "output_type": "stream",
          "name": "stdout",
          "text": [
            "{10: 2, 20: 1, 40: 1, 50: 2, 30: 1}\n"
          ]
        }
      ]
    },
    {
      "cell_type": "code",
      "source": [
        "d = {10:1}\n",
        "if (20 in d):\n",
        "  d[10] = d[10] +1\n",
        "else:\n",
        "  d[20] = 1\n",
        "print(d)"
      ],
      "metadata": {
        "colab": {
          "base_uri": "https://localhost:8080/"
        },
        "id": "eK7amxntB_h3",
        "outputId": "064d0fc5-f83b-44a0-c460-cce43d0662df"
      },
      "execution_count": null,
      "outputs": [
        {
          "output_type": "stream",
          "name": "stdout",
          "text": [
            "{10: 1, 20: 1}\n"
          ]
        }
      ]
    },
    {
      "cell_type": "code",
      "source": [
        "s =\"abc\"\n",
        "for i in range (0,4):\n",
        "  data = \"\"\n",
        "  for j in range (0,i):\n",
        "    print(i,j,s[j])\n",
        "    data = data+ s [j]\n",
        "  print (\"data ==> \" , data)"
      ],
      "metadata": {
        "colab": {
          "base_uri": "https://localhost:8080/"
        },
        "id": "6oDJPUOzB_eq",
        "outputId": "ec15b801-f8e6-4076-e940-c02632c9abb7"
      },
      "execution_count": null,
      "outputs": [
        {
          "output_type": "stream",
          "name": "stdout",
          "text": [
            "data ==>  \n",
            "1 0 a\n",
            "data ==>  a\n",
            "2 0 a\n",
            "2 1 b\n",
            "data ==>  ab\n",
            "3 0 a\n",
            "3 1 b\n",
            "3 2 c\n",
            "data ==>  abc\n"
          ]
        }
      ]
    },
    {
      "cell_type": "code",
      "source": [
        "d = {chr(i): i for i in range(65, 91)}\n",
        "print(d)\n",
        "\n",
        "print(\"A:\", d[\"A\"])\n",
        "print(\"Z:\", d[\"Z\"])\n",
        "\n",
        "rev = {v: k for k, v in d.items()}\n",
        "print(\"89:\", rev[89])\n"
      ],
      "metadata": {
        "colab": {
          "base_uri": "https://localhost:8080/"
        },
        "id": "ts_vq5RzB6T_",
        "outputId": "63996983-0604-4016-9a85-c8602245a0fb"
      },
      "execution_count": null,
      "outputs": [
        {
          "output_type": "stream",
          "name": "stdout",
          "text": [
            "{'A': 65, 'B': 66, 'C': 67, 'D': 68, 'E': 69, 'F': 70, 'G': 71, 'H': 72, 'I': 73, 'J': 74, 'K': 75, 'L': 76, 'M': 77, 'N': 78, 'O': 79, 'P': 80, 'Q': 81, 'R': 82, 'S': 83, 'T': 84, 'U': 85, 'V': 86, 'W': 87, 'X': 88, 'Y': 89, 'Z': 90}\n",
            "A: 65\n",
            "Z: 90\n",
            "89: Y\n"
          ]
        }
      ]
    },
    {
      "cell_type": "code",
      "source": [
        "mylist = [0, 1, 2, 4, 7, 11, 14, 15]\n",
        "target = 9\n",
        "\n",
        "mydictionary = {}\n",
        "for i, num in enumerate(mylist):\n",
        "    mydictionary[num] = i\n",
        "\n",
        "for i in mylist:\n",
        "    if (target - i) in mydictionary and mydictionary[target - i] != mydictionary[i]:\n",
        "        print(i, target - i)\n",
        "        break\n"
      ],
      "metadata": {
        "colab": {
          "base_uri": "https://localhost:8080/"
        },
        "id": "ZA5sN8ziDVBV",
        "outputId": "7f6b8b1f-16ac-4185-87dc-a9b6cc54ad40"
      },
      "execution_count": null,
      "outputs": [
        {
          "output_type": "stream",
          "name": "stdout",
          "text": [
            "2 7\n"
          ]
        }
      ]
    },
    {
      "cell_type": "code",
      "source": [
        "def int_to_roman(num):\n",
        "    val = [1000, 900, 500, 400, 100, 90,  50, 40, 10, 9, 5, 4, 1]\n",
        "    syms= ['M', 'CM','D', 'CD','C','XC','L','XL','X','IX','V','IV','I']\n",
        "    roman = \"\"\n",
        "    for i in range(len(val)):\n",
        "        roman += syms[i] * (num // val[i])\n",
        "        num %= val[i]\n",
        "    return roman\n",
        "\n",
        "print(int_to_roman(3749))\n"
      ],
      "metadata": {
        "colab": {
          "base_uri": "https://localhost:8080/"
        },
        "id": "4DUHgPWqoNbW",
        "outputId": "baa0ae06-3512-4282-da37-7de8777a7606"
      },
      "execution_count": null,
      "outputs": [
        {
          "output_type": "stream",
          "name": "stdout",
          "text": [
            "MMMDCCXLIX\n"
          ]
        }
      ]
    },
    {
      "cell_type": "code",
      "source": [
        "# SET #\n",
        "\n",
        "x = {1,2,3,10,30,10,10,1,1,1,1}\n",
        "print(x)\n",
        "x.add (\"hey\")\n",
        "print(x)\n",
        "x.discard(2)\n",
        "print(x)\n",
        "x.update([1000,2000,3000])\n",
        "print(x)"
      ],
      "metadata": {
        "colab": {
          "base_uri": "https://localhost:8080/"
        },
        "id": "rOFH4phQqM7Y",
        "outputId": "c930bea4-25c3-4dfa-9fc0-4c2b55ed6922"
      },
      "execution_count": null,
      "outputs": [
        {
          "output_type": "stream",
          "name": "stdout",
          "text": [
            "{1, 2, 3, 10, 30}\n",
            "{1, 2, 3, 'hey', 10, 30}\n",
            "{1, 3, 'hey', 10, 30}\n",
            "{1, 3, 'hey', 10, 2000, 30, 1000, 3000}\n"
          ]
        }
      ]
    },
    {
      "cell_type": "code",
      "source": [
        "user_message = input(\"Enter the message: \")\n",
        "uppercase_count = 0\n",
        "\n",
        "for char in user_message:\n",
        "    if 'A' <= char <= 'Z':\n",
        "        uppercase_count += 1\n",
        "\n",
        "if uppercase_count > 0:\n",
        "    print(\"YES\")\n",
        "else:\n",
        "    print(\"NO\")"
      ],
      "metadata": {
        "colab": {
          "base_uri": "https://localhost:8080/"
        },
        "id": "JfVkDQVaw9mY",
        "outputId": "38b19851-7771-4c67-b580-10f64ff6fcc6"
      },
      "execution_count": null,
      "outputs": [
        {
          "output_type": "stream",
          "name": "stdout",
          "text": [
            "Enter the message: Vijay\n",
            "YES\n"
          ]
        }
      ]
    },
    {
      "cell_type": "code",
      "source": [
        "# list , dictionary , set , tuple\n",
        "# list comphresion , dictiionary , set comphresion\n",
        "# range (1 , 11) => [1,2,3,4,5,6,7,8,9,10]"
      ],
      "metadata": {
        "id": "EPBpUcTBHz5_"
      },
      "execution_count": null,
      "outputs": []
    },
    {
      "cell_type": "code",
      "source": [
        "newlist = []\n",
        "for i in range(1,11):\n",
        "    newlist.append(i)\n",
        "print(newlist)"
      ],
      "metadata": {
        "colab": {
          "base_uri": "https://localhost:8080/"
        },
        "id": "chaLWfVLIgOy",
        "outputId": "996c93a7-d68c-46aa-9c1d-15f78fcb7340"
      },
      "execution_count": 4,
      "outputs": [
        {
          "output_type": "stream",
          "name": "stdout",
          "text": [
            "[1, 2, 3, 4, 5, 6, 7, 8, 9, 10]\n"
          ]
        }
      ]
    },
    {
      "cell_type": "code",
      "source": [
        "[i**2 for i in range (1,12)]"
      ],
      "metadata": {
        "colab": {
          "base_uri": "https://localhost:8080/"
        },
        "id": "HXKTywAzIwMi",
        "outputId": "8431bfa3-31ee-4de0-90e2-59e2b6dab9a9"
      },
      "execution_count": 6,
      "outputs": [
        {
          "output_type": "execute_result",
          "data": {
            "text/plain": [
              "[1, 4, 9, 16, 25, 36, 49, 64, 81, 100, 121]"
            ]
          },
          "metadata": {},
          "execution_count": 6
        }
      ]
    },
    {
      "cell_type": "code",
      "source": [
        "{i:i**2 for i in range (1,12)}"
      ],
      "metadata": {
        "colab": {
          "base_uri": "https://localhost:8080/"
        },
        "id": "NjL09k64JPD2",
        "outputId": "6d3c81a3-7ee8-4768-d33e-bf0da167842e"
      },
      "execution_count": 7,
      "outputs": [
        {
          "output_type": "execute_result",
          "data": {
            "text/plain": [
              "{1: 1, 2: 4, 3: 9, 4: 16, 5: 25, 6: 36, 7: 49, 8: 64, 9: 81, 10: 100, 11: 121}"
            ]
          },
          "metadata": {},
          "execution_count": 7
        }
      ]
    },
    {
      "cell_type": "code",
      "source": [
        "[i for i in range (1,12) if i % 2 == 0 and i%3 ==0]"
      ],
      "metadata": {
        "colab": {
          "base_uri": "https://localhost:8080/"
        },
        "id": "IENFrpyUJakn",
        "outputId": "18ddd102-a896-40eb-eb35-07111b461c57"
      },
      "execution_count": 9,
      "outputs": [
        {
          "output_type": "execute_result",
          "data": {
            "text/plain": [
              "[6]"
            ]
          },
          "metadata": {},
          "execution_count": 9
        }
      ]
    },
    {
      "cell_type": "code",
      "source": [
        "[(i,j) for i in range (1,5) for j in range (5,8)]"
      ],
      "metadata": {
        "colab": {
          "base_uri": "https://localhost:8080/"
        },
        "id": "ZfWBn6IAJtIK",
        "outputId": "d65a8e8d-03b5-41a3-ba38-39f0bf8bf5a4"
      },
      "execution_count": 10,
      "outputs": [
        {
          "output_type": "execute_result",
          "data": {
            "text/plain": [
              "[(1, 5),\n",
              " (1, 6),\n",
              " (1, 7),\n",
              " (2, 5),\n",
              " (2, 6),\n",
              " (2, 7),\n",
              " (3, 5),\n",
              " (3, 6),\n",
              " (3, 7),\n",
              " (4, 5),\n",
              " (4, 6),\n",
              " (4, 7)]"
            ]
          },
          "metadata": {},
          "execution_count": 10
        }
      ]
    },
    {
      "cell_type": "code",
      "source": [
        "nums = [-1, 0, 1, 2, 11, 16]\n",
        "target = 12\n",
        "s = set()\n",
        "\n",
        "for n in nums:\n",
        "    if target - n in s:\n",
        "        print(\"YES\")\n",
        "        break\n",
        "    s.add(n)\n",
        "else:\n",
        "    print(\"NO\")\n"
      ],
      "metadata": {
        "id": "OMxVSPfSqLCF",
        "colab": {
          "base_uri": "https://localhost:8080/"
        },
        "outputId": "0b7f7a4c-05df-471a-9bdd-62bbcb44c682"
      },
      "execution_count": 11,
      "outputs": [
        {
          "output_type": "stream",
          "name": "stdout",
          "text": [
            "YES\n"
          ]
        }
      ]
    },
    {
      "cell_type": "code",
      "source": [
        "nums = [-1, 0, 1, 2, 11, 16]\n",
        "target = 12\n",
        "s = {}\n",
        "for n in nums:\n",
        "    if target - n in s:\n",
        "        print(\"YES\")\n",
        "        break\n",
        "    s[n] = True\n",
        "else:\n",
        "    print(\"NO\")\n"
      ],
      "metadata": {
        "colab": {
          "base_uri": "https://localhost:8080/"
        },
        "id": "ZjHycd2NLo4r",
        "outputId": "9b7e0802-19a5-4ae7-be6d-bdc5ff160ddd"
      },
      "execution_count": 12,
      "outputs": [
        {
          "output_type": "stream",
          "name": "stdout",
          "text": [
            "YES\n"
          ]
        }
      ]
    },
    {
      "cell_type": "code",
      "source": [
        "nums = [-1, 0, 1, 2, 11, 16]\n",
        "target = 12\n",
        "s = set()\n",
        "\n",
        "for n in nums:\n",
        "    if target - n in s:\n",
        "        print(\"YES\")\n",
        "        break\n",
        "    s.add(n)\n",
        "else:\n",
        "    print(\"NO\")\n"
      ],
      "metadata": {
        "colab": {
          "base_uri": "https://localhost:8080/"
        },
        "id": "v_D48E4RLsTZ",
        "outputId": "bcf04dd1-e148-41b3-e5d1-9cb5caed1ec0"
      },
      "execution_count": 13,
      "outputs": [
        {
          "output_type": "stream",
          "name": "stdout",
          "text": [
            "YES\n"
          ]
        }
      ]
    }
  ]
}