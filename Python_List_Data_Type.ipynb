{
  "nbformat": 4,
  "nbformat_minor": 0,
  "metadata": {
    "colab": {
      "provenance": []
    },
    "kernelspec": {
      "name": "python3",
      "display_name": "Python 3"
    },
    "language_info": {
      "name": "python"
    }
  },
  "cells": [
    {
      "cell_type": "code",
      "execution_count": null,
      "metadata": {
        "colab": {
          "base_uri": "https://localhost:8080/"
        },
        "id": "1h9T621lXFYa",
        "outputId": "11c510b3-2815-4f5e-d602-bed3e9cf152e"
      },
      "outputs": [
        {
          "output_type": "stream",
          "name": "stdout",
          "text": [
            "memory of x => 10751144\n"
          ]
        }
      ],
      "source": [
        "age = 10\n",
        "print(\"memory of x =>\", id (age))"
      ]
    },
    {
      "cell_type": "code",
      "source": [
        "age = x\n",
        "print = (print(\"memory of x =>\", id (x)))"
      ],
      "metadata": {
        "colab": {
          "base_uri": "https://localhost:8080/"
        },
        "id": "vq1sAVj3CFg5",
        "outputId": "a1964414-f094-4e95-9448-cec293b0ccea"
      },
      "execution_count": null,
      "outputs": [
        {
          "output_type": "stream",
          "name": "stdout",
          "text": [
            "memory of x => 10750952\n"
          ]
        }
      ]
    },
    {
      "cell_type": "code",
      "source": [
        "#List Data Type\n",
        "x = 10\n",
        "y = 20\n",
        "z = 30\n",
        "#Collection of data element\n",
        "[1,2,3,4,5,\"abc\"]\n",
        "\n",
        "#List have index value for an element\n",
        "[\"Vijay\",10,24,34,41,\"abc\"]\n",
        "\n",
        "#Sequance Datatype\n"
      ],
      "metadata": {
        "id": "7ObeQGUXHic8"
      },
      "execution_count": null,
      "outputs": []
    },
    {
      "cell_type": "code",
      "source": [
        "mylist = [10, 20, 30, \"abc\"]\n",
        "print(mylist)\n",
        "print(mylist[0])"
      ],
      "metadata": {
        "id": "kO_otXazj9Oq",
        "colab": {
          "base_uri": "https://localhost:8080/"
        },
        "outputId": "442f37c3-bb66-460e-8929-d60a93db66fd"
      },
      "execution_count": null,
      "outputs": [
        {
          "output_type": "stream",
          "name": "stdout",
          "text": [
            "[10, 20, 30, 'abc']\n",
            "10\n"
          ]
        }
      ]
    },
    {
      "cell_type": "code",
      "source": [
        "mylist = [10, 20, 30, \"abc\"]\n",
        "mylist.append(90)         #add element at last\n",
        "print(mylist)"
      ],
      "metadata": {
        "colab": {
          "base_uri": "https://localhost:8080/"
        },
        "id": "yeJZBYxnNa4K",
        "outputId": "aff306f9-289b-4fdb-ec96-436723a06594"
      },
      "execution_count": null,
      "outputs": [
        {
          "output_type": "stream",
          "name": "stdout",
          "text": [
            "[10, 20, 30, 'abc', 90]\n"
          ]
        }
      ]
    },
    {
      "cell_type": "code",
      "source": [
        "mylist = [10, 20, 30, \"abc\"]\n",
        "mylist.insert(10, \"Vijay\")     # add a string\n",
        "print(mylist)"
      ],
      "metadata": {
        "id": "UtZzeCipllpL",
        "colab": {
          "base_uri": "https://localhost:8080/"
        },
        "outputId": "a1304b78-db65-4410-cbf5-d459f756c62a"
      },
      "execution_count": null,
      "outputs": [
        {
          "output_type": "stream",
          "name": "stdout",
          "text": [
            "[10, 20, 30, 'abc', 'Vijay']\n"
          ]
        }
      ]
    },
    {
      "cell_type": "code",
      "source": [
        "mylist = [10, 20, 30, \"abc\"]\n",
        "mylist[0]=1888              #update => index = value\n",
        "print(mylist)"
      ],
      "metadata": {
        "colab": {
          "base_uri": "https://localhost:8080/"
        },
        "id": "TJyjBQ4cN882",
        "outputId": "45e1553f-5a10-4777-8ce5-b965692fa2bb"
      },
      "execution_count": null,
      "outputs": [
        {
          "output_type": "stream",
          "name": "stdout",
          "text": [
            "[1888, 20, 30, 'abc']\n"
          ]
        }
      ]
    },
    {
      "cell_type": "code",
      "source": [
        "mylist = [10, 20, 30, \"abc\"]\n",
        "mylist.pop()            # delete string\n",
        "print(\"delete=>\",mylist)"
      ],
      "metadata": {
        "colab": {
          "base_uri": "https://localhost:8080/"
        },
        "id": "tp99fp1QOgaM",
        "outputId": "729fe696-f6d2-4c8f-a8d9-2e80aa282c92"
      },
      "execution_count": null,
      "outputs": [
        {
          "output_type": "stream",
          "name": "stdout",
          "text": [
            "delete=> [10, 20, 30]\n"
          ]
        }
      ]
    },
    {
      "cell_type": "code",
      "source": [
        "x = [10,20]\n",
        "x.append(30)\n",
        "\n",
        "print(x)\n",
        "x[0]=100\n",
        "\n",
        "print(x)\n",
        "out = x.pop()\n",
        "print (x,out)\n"
      ],
      "metadata": {
        "colab": {
          "base_uri": "https://localhost:8080/"
        },
        "id": "00okHHwXOxJW",
        "outputId": "f054f042-6d64-4ff5-88be-6be4ea04a28a"
      },
      "execution_count": null,
      "outputs": [
        {
          "output_type": "stream",
          "name": "stdout",
          "text": [
            "[10, 20, 30]\n",
            "[100, 20, 30]\n",
            "[100, 20] 30\n"
          ]
        }
      ]
    },
    {
      "cell_type": "code",
      "source": [
        "x = [10,20,1,2,5]\n",
        "x.reverse()\n",
        "print(x)"
      ],
      "metadata": {
        "colab": {
          "base_uri": "https://localhost:8080/"
        },
        "id": "t4GAx2eFPKDj",
        "outputId": "e79bcf4a-e489-46e9-e54d-9eba7e308754"
      },
      "execution_count": null,
      "outputs": [
        {
          "output_type": "stream",
          "name": "stdout",
          "text": [
            "[5, 2, 1, 20, 10]\n"
          ]
        }
      ]
    },
    {
      "cell_type": "code",
      "source": [
        "x = [10,20,1,2,5]\n",
        "x.sort()\n",
        "print(x)\n"
      ],
      "metadata": {
        "colab": {
          "base_uri": "https://localhost:8080/"
        },
        "id": "FLN3jskxPT6N",
        "outputId": "7b5f5744-b890-4386-8fbb-5fb39098b8eb"
      },
      "execution_count": null,
      "outputs": [
        {
          "output_type": "stream",
          "name": "stdout",
          "text": [
            "[1, 2, 5, 10, 20]\n"
          ]
        }
      ]
    },
    {
      "cell_type": "code",
      "source": [
        "list1 = [10,20,30,40,50,2,3,70]\n",
        "for e in list1 :       #execute loop directly => iterable\n",
        "  print(e)"
      ],
      "metadata": {
        "colab": {
          "base_uri": "https://localhost:8080/"
        },
        "id": "ZsrTqN8nPTuz",
        "outputId": "5c38cac4-bb7e-4dca-d601-4b75ef5e51ef"
      },
      "execution_count": null,
      "outputs": [
        {
          "output_type": "stream",
          "name": "stdout",
          "text": [
            "10\n",
            "20\n",
            "30\n",
            "40\n",
            "50\n",
            "2\n",
            "3\n",
            "70\n"
          ]
        }
      ]
    },
    {
      "cell_type": "code",
      "source": [
        "list1 = [10,20,30,40,50,2,3,70]\n",
        "for index in range (0,7):\n",
        "  print(index, list1 [index])"
      ],
      "metadata": {
        "colab": {
          "base_uri": "https://localhost:8080/"
        },
        "id": "ueZEgG8rP5CH",
        "outputId": "634b7d56-316d-461a-86bd-52c49da47807"
      },
      "execution_count": null,
      "outputs": [
        {
          "output_type": "stream",
          "name": "stdout",
          "text": [
            "0 10\n",
            "1 20\n",
            "2 30\n",
            "3 40\n",
            "4 50\n",
            "5 2\n",
            "6 3\n"
          ]
        }
      ]
    },
    {
      "cell_type": "code",
      "source": [
        "list1 = [10, 20, 30, 40, 50, 2, 3, 70]\n",
        "min = list1[0]\n",
        "\n",
        "for i in range(len(list1)):\n",
        "    if list1[i] < min:\n",
        "        min = list1[i]\n",
        "\n",
        "print(min)\n"
      ],
      "metadata": {
        "colab": {
          "base_uri": "https://localhost:8080/"
        },
        "id": "9BczemBsP46p",
        "outputId": "1a7746c9-036e-4e1e-edd9-fd4048b4a77b"
      },
      "execution_count": null,
      "outputs": [
        {
          "output_type": "stream",
          "name": "stdout",
          "text": [
            "2\n"
          ]
        }
      ]
    },
    {
      "cell_type": "code",
      "source": [
        "mylist = [10,20,30,40, \"abc\"]\n",
        "for index in range (0,len(mylist)):\n",
        "  print(index,mylist[index])"
      ],
      "metadata": {
        "id": "6nusNJNkP4wk",
        "colab": {
          "base_uri": "https://localhost:8080/"
        },
        "outputId": "33dc89c4-c0ca-426d-8d78-ea947651aa43"
      },
      "execution_count": null,
      "outputs": [
        {
          "output_type": "stream",
          "name": "stdout",
          "text": [
            "0 10\n",
            "1 20\n",
            "2 30\n",
            "3 40\n",
            "4 abc\n"
          ]
        }
      ]
    },
    {
      "cell_type": "code",
      "source": [
        "mylist = [10, 20, 30, 40, 14]\n",
        "max = mylist[0]\n",
        "\n",
        "for index in range(0, len(mylist)):\n",
        "    print(\"Before ->\", mylist[index], max)\n",
        "    if mylist[index] > max:\n",
        "        max = mylist[index]\n",
        "        print(\"After ->\", mylist[index], max)\n"
      ],
      "metadata": {
        "colab": {
          "base_uri": "https://localhost:8080/"
        },
        "id": "JB3-q_Lnzf3j",
        "outputId": "61d6e7d4-81e7-4240-a900-cef6fddd1e40"
      },
      "execution_count": null,
      "outputs": [
        {
          "output_type": "stream",
          "name": "stdout",
          "text": [
            "Before -> 10 10\n",
            "Before -> 20 10\n",
            "After -> 20 20\n",
            "Before -> 30 20\n",
            "After -> 30 30\n",
            "Before -> 40 30\n",
            "After -> 40 40\n",
            "Before -> 14 40\n"
          ]
        }
      ]
    },
    {
      "cell_type": "code",
      "source": [
        "mylist = [10, 20, 30, 40, 14]\n",
        "max = mylist[0]\n",
        "smax = 0\n",
        "for index in range (0,  len (mylist)):\n",
        "  if (mylist[index] > max):\n",
        "    smax = max\n",
        "    max = mylist [index]\n",
        "    print (\"value ->\" ,max ,smax)"
      ],
      "metadata": {
        "colab": {
          "base_uri": "https://localhost:8080/"
        },
        "id": "CTskN6R0zf0C",
        "outputId": "6f71a8da-d955-4705-f388-e1f68f0dba69"
      },
      "execution_count": null,
      "outputs": [
        {
          "output_type": "stream",
          "name": "stdout",
          "text": [
            "value -> 20 10\n",
            "value -> 30 20\n",
            "value -> 40 30\n"
          ]
        }
      ]
    },
    {
      "cell_type": "code",
      "source": [
        "mylist = [10, 20, 30, 40, 35]\n",
        "max = mylist[0]\n",
        "smax = 0\n",
        "for index in range (0,  len (mylist)):\n",
        "\n",
        "  if (mylist[index] > max):\n",
        "    smax = max\n",
        "    max = mylist [index]\n",
        "\n",
        "  elif (mylist[index] > smax):\n",
        "    smax = mylist [index]\n",
        "\n",
        "print (\"value ->\" ,max ,smax)"
      ],
      "metadata": {
        "colab": {
          "base_uri": "https://localhost:8080/"
        },
        "id": "zzW3gqo1zfw5",
        "outputId": "bca81de0-09be-4560-c838-df54fbe4b671"
      },
      "execution_count": null,
      "outputs": [
        {
          "output_type": "stream",
          "name": "stdout",
          "text": [
            "value -> 40 35\n"
          ]
        }
      ]
    },
    {
      "cell_type": "code",
      "source": [
        "mylist = [10,20,30,40,35]\n",
        "for index in range (0,1):\n",
        "  print(mylist[index])\n",
        "\n",
        "for index2 in range (1 , len (mylist)):\n",
        "  print(mylist[index], mylist [index2])"
      ],
      "metadata": {
        "colab": {
          "base_uri": "https://localhost:8080/"
        },
        "id": "Dfm2bWauzfuG",
        "outputId": "703adff8-fc09-4fcb-e534-0104e034634b"
      },
      "execution_count": null,
      "outputs": [
        {
          "output_type": "stream",
          "name": "stdout",
          "text": [
            "10\n",
            "10 20\n",
            "10 30\n",
            "10 40\n",
            "10 35\n"
          ]
        }
      ]
    }
  ]
}