{
  "nbformat": 4,
  "nbformat_minor": 0,
  "metadata": {
    "colab": {
      "provenance": []
    },
    "kernelspec": {
      "name": "python3",
      "display_name": "Python 3"
    },
    "language_info": {
      "name": "python"
    }
  },
  "cells": [
    {
      "cell_type": "code",
      "execution_count": 1,
      "metadata": {
        "colab": {
          "base_uri": "https://localhost:8080/"
        },
        "id": "f1jIF_jrs59g",
        "outputId": "1eacd7e2-e9bc-4955-f855-ce35e8d0d9b6"
      },
      "outputs": [
        {
          "output_type": "stream",
          "name": "stdout",
          "text": [
            "🎉 Welcome to Kaun Banega Crorepati 🎉\n",
            "\n",
            "👉 Question 1 for ₹1000:\n",
            "\n",
            "What is the national animal of India?\n",
            "A. Peacock\n",
            "B. Lion\n",
            "C. Tiger\n",
            "D. Dog\n",
            "\n",
            "Choose an option (A/B/C/D) or Press Q to Quit: c\n",
            "✅ Correct! You have won ₹1000\n",
            "\n",
            "👉 Question 2 for ₹25000:\n",
            "\n",
            "Who is the father of the nation?\n",
            "A. Rabindra Nath Tagore\n",
            "B. Mahatma Gandhi\n",
            "C. Sharukh Khan\n",
            "D. Salman Khan\n",
            "\n",
            "Choose an option (A/B/C/D) or Press Q to Quit: b\n",
            "✅ Correct! You have won ₹26000\n"
          ]
        }
      ],
      "source": [
        "questionBank = [\n",
        "    {\n",
        "        \"Question\": \"What is the national animal of India?\",\n",
        "        \"option\": [\"A. Peacock\", \"B. Lion\", \"C. Tiger\", \"D. Dog\"],\n",
        "        \"Ans\": \"C\",\n",
        "    },\n",
        "    {\n",
        "        \"Question\": \"Who is the father of the nation?\",\n",
        "        \"option\": [\"A. Rabindra Nath Tagore\", \"B. Mahatma Gandhi\",\n",
        "                   \"C. Sharukh Khan\", \"D. Salman Khan\"],\n",
        "        \"Ans\": \"B\",\n",
        "    }\n",
        "]\n",
        "\n",
        "print('🎉 Welcome to Kaun Banega Crorepati 🎉')\n",
        "total_winning = 0\n",
        "prizeMoney = [1000, 25000]\n",
        "\n",
        "for i, q in enumerate(questionBank):\n",
        "    print(f\"\\n👉 Question {i+1} for ₹{prizeMoney[i]}:\\n\")\n",
        "    print(q[\"Question\"])\n",
        "    for option in q[\"option\"]:\n",
        "        print(option)\n",
        "\n",
        "    user_input = input(\"\\nChoose an option (A/B/C/D) or Press Q to Quit: \").strip().upper()\n",
        "\n",
        "    if user_input == \"Q\":\n",
        "        print(f\"\\n🙏 Thank you for playing! You won ₹{total_winning}\")\n",
        "        break\n",
        "    elif user_input == q[\"Ans\"]:\n",
        "        total_winning += prizeMoney[i]\n",
        "        print(f\"✅ Correct! You have won ₹{total_winning}\")\n",
        "    elif user_input in ['A', 'B', 'C', 'D']:\n",
        "        print(f\"❌ Wrong answer. The correct answer was option {q['Ans']}.\")\n",
        "        print(\"💔 GAME OVER!\")\n",
        "        total_winning = 0\n",
        "        break\n",
        "    else:\n",
        "        print(\"⚠️ Invalid input. Please choose from A, B, C, D or Q.\")\n",
        "        break\n"
      ]
    }
  ]
}