{
  "nbformat": 4,
  "nbformat_minor": 0,
  "metadata": {
    "colab": {
      "provenance": []
    },
    "kernelspec": {
      "name": "python3",
      "display_name": "Python 3"
    },
    "language_info": {
      "name": "python"
    }
  },
  "cells": [
    {
      "cell_type": "code",
      "execution_count": null,
      "metadata": {
        "id": "4iMPXkceGj7U"
      },
      "outputs": [],
      "source": [
        "# Abstraction - Unwanted detail hide krna"
      ]
    },
    {
      "cell_type": "code",
      "source": [
        "class A:\n",
        "  def info(self):\n",
        "    print(\"INFO from A class\")\n",
        "\n",
        "class B(A):\n",
        "  def info(self):\n",
        "    print(\"INFO from B class\")"
      ],
      "metadata": {
        "id": "B_puUlcGGoMc"
      },
      "execution_count": 1,
      "outputs": []
    },
    {
      "cell_type": "code",
      "source": [
        "b1=B()\n",
        "b1.info()"
      ],
      "metadata": {
        "id": "NaUkeRPUGoKG",
        "colab": {
          "base_uri": "https://localhost:8080/"
        },
        "outputId": "97bbb76f-61d8-41c9-c5aa-04f558fad1ec"
      },
      "execution_count": 2,
      "outputs": [
        {
          "output_type": "stream",
          "name": "stdout",
          "text": [
            "INFO from B class\n"
          ]
        }
      ]
    },
    {
      "cell_type": "code",
      "source": [
        "class RBI:\n",
        "  def info(self):\n",
        "    print(\"Interest rate 10% from RBI\")\n",
        "\n",
        "class SBI(RBI):\n",
        "  def info2(self):\n",
        "    print(\"Interest rate 10% from SBI\")"
      ],
      "metadata": {
        "id": "8qTLp0HcGoH9"
      },
      "execution_count": 3,
      "outputs": []
    },
    {
      "cell_type": "code",
      "source": [
        "s1=SBI()\n",
        "s1.info()"
      ],
      "metadata": {
        "id": "VIZpGI-XGoFu",
        "colab": {
          "base_uri": "https://localhost:8080/"
        },
        "outputId": "668635bf-93f8-4317-ddad-5b3c69737a0b"
      },
      "execution_count": 4,
      "outputs": [
        {
          "output_type": "stream",
          "name": "stdout",
          "text": [
            "Interest rate 10% from RBI\n"
          ]
        }
      ]
    },
    {
      "cell_type": "code",
      "source": [
        "# Hide Unwanted details\n",
        "# Function need to implimented inn child Classes\n",
        "# Work as blue print for all subclass\n",
        "# Abstraction Achieve => Abstract Class\n",
        "# Abstract Class => Abstract Method\n",
        "# Abstract Method => Not implimented, its implemented in child classes"
      ],
      "metadata": {
        "id": "OtndbhHJGoDi"
      },
      "execution_count": null,
      "outputs": []
    },
    {
      "cell_type": "code",
      "source": [
        "class RBI:\n",
        "  def info(self):\n",
        "   pass\n",
        "\n",
        "class SBI(RBI):\n",
        "  def info2(self):\n",
        "    print(\"Interest rate 10% from SBI\")"
      ],
      "metadata": {
        "id": "y5N22QJ3GoBa"
      },
      "execution_count": 5,
      "outputs": []
    },
    {
      "cell_type": "code",
      "source": [
        "s1=SBI()\n",
        "s1.info()"
      ],
      "metadata": {
        "id": "zbc0WEl3Gn_C"
      },
      "execution_count": 6,
      "outputs": []
    },
    {
      "cell_type": "code",
      "source": [
        "from abc import ABC,abstractmethod\n",
        "# ABC  ( ABSTRACT BASE CLASS)\n",
        "\n",
        "\n",
        "class RBI(ABC):       # Abstracts Class\n",
        "\n",
        "  @abstractedmethod\n",
        "  def info(self):       # Abstract Method\n",
        "    pass\n",
        "\n",
        "  class SBI(RBI):\n",
        "    def info2(self):        # Implementing abstract method from parent class\n",
        "      print(\"Interest rate 10% from SBI\")"
      ],
      "metadata": {
        "id": "Str8hcNDGn8r"
      },
      "execution_count": 18,
      "outputs": []
    },
    {
      "cell_type": "code",
      "source": [
        "s1=SBI()\n",
        "s1=RBI()"
      ],
      "metadata": {
        "id": "WBqFsikFGn6R"
      },
      "execution_count": 19,
      "outputs": []
    }
  ]
}