{
  "nbformat": 4,
  "nbformat_minor": 0,
  "metadata": {
    "colab": {
      "provenance": []
    },
    "kernelspec": {
      "name": "python3",
      "display_name": "Python 3"
    },
    "language_info": {
      "name": "python"
    }
  },
  "cells": [
    {
      "cell_type": "code",
      "execution_count": 1,
      "metadata": {
        "colab": {
          "base_uri": "https://localhost:8080/"
        },
        "id": "gQKDLn-hyPg3",
        "outputId": "2a217ed8-7141-4749-cb5b-df3e043376fe"
      },
      "outputs": [
        {
          "output_type": "stream",
          "name": "stdout",
          "text": [
            "True\n"
          ]
        }
      ],
      "source": [
        "numbers = [1, 2, 3, 2, 1]\n",
        "\n",
        "i = 0,\n",
        "j = 0,\n",
        "len(numbers) - 1\n",
        "palindrome = True\n",
        "\n",
        "while i < j:\n",
        "    if numbers[i] != numbers[j]:\n",
        "        palindrome = False\n",
        "        break\n",
        "    i += 1\n",
        "    j -= 1\n",
        "\n",
        "print(palindrome)\n"
      ]
    },
    {
      "cell_type": "code",
      "source": [
        "numbers = [1, 2, 3, 2, 4, 5, 1, 6]\n",
        "duplicate_no = []\n",
        "for n in numbers:\n",
        "    if n not in duplicate_no:\n",
        "        duplicate_no.append(n)\n",
        "print(duplicate_no)\n"
      ],
      "metadata": {
        "colab": {
          "base_uri": "https://localhost:8080/"
        },
        "id": "aMmlczzPy9Pa",
        "outputId": "4507f8d6-be71-47af-f934-1ea9729452b6"
      },
      "execution_count": 2,
      "outputs": [
        {
          "output_type": "stream",
          "name": "stdout",
          "text": [
            "[1, 2, 3, 4, 5, 6]\n"
          ]
        }
      ]
    },
    {
      "cell_type": "code",
      "source": [
        "numbers = [1, 2, 3, 2, 4, 5, 1, 6]\n",
        "def remove_duplicates(lst):\n",
        "    result = []\n",
        "    for num in lst:\n",
        "        if num not in result:\n",
        "            result.append(num)\n",
        "    return result\n",
        "\n",
        "print(remove_duplicates(numbers))\n"
      ],
      "metadata": {
        "colab": {
          "base_uri": "https://localhost:8080/"
        },
        "id": "M5VC2EEK0rNs",
        "outputId": "aad67c41-42f9-46b8-bb2b-4a98a6943688"
      },
      "execution_count": 10,
      "outputs": [
        {
          "output_type": "stream",
          "name": "stdout",
          "text": [
            "[1, 2, 3, 4, 5, 6]\n"
          ]
        }
      ]
    },
    {
      "cell_type": "code",
      "source": [
        "list1 = [1, 2, 3, 4, 5]\n",
        "list2 = [3, 4, 5, 6, 7]\n",
        "a = 0\n",
        "\n",
        "result = [a for a in list1 if a in list2]\n",
        "print(result)\n"
      ],
      "metadata": {
        "colab": {
          "base_uri": "https://localhost:8080/"
        },
        "id": "pD-8C2aK1fIm",
        "outputId": "308fafd5-73e7-46fe-d70c-aa36f96cd07d"
      },
      "execution_count": 6,
      "outputs": [
        {
          "output_type": "stream",
          "name": "stdout",
          "text": [
            "[3, 4, 5]\n"
          ]
        }
      ]
    },
    {
      "cell_type": "code",
      "source": [
        "words = [\"apple\", \"banana\", \"strawberry\", \"kiwi\"]\n",
        "longest = max(words, key=len)\n",
        "print(longest)\n"
      ],
      "metadata": {
        "colab": {
          "base_uri": "https://localhost:8080/"
        },
        "id": "M2LSUrOU1zHy",
        "outputId": "00eb8cb5-ef6d-4f92-eb3b-075d5e5240eb"
      },
      "execution_count": 9,
      "outputs": [
        {
          "output_type": "stream",
          "name": "stdout",
          "text": [
            "strawberry\n"
          ]
        }
      ]
    },
    {
      "cell_type": "code",
      "source": [
        "numbers = [1, 2, 4, 5]\n",
        "n = 5\n",
        "\n",
        "missing = sum(range(1, n + 1)) - sum(numbers)\n",
        "print(\"Missing number is:\", missing)\n"
      ],
      "metadata": {
        "colab": {
          "base_uri": "https://localhost:8080/"
        },
        "id": "V6Jv6Jtv2FhP",
        "outputId": "10631658-3647-478d-a0b9-068cf2bc1a35"
      },
      "execution_count": 11,
      "outputs": [
        {
          "output_type": "stream",
          "name": "stdout",
          "text": [
            "Missing number is: 3\n"
          ]
        }
      ]
    }
  ]
}