{
  "nbformat": 4,
  "nbformat_minor": 0,
  "metadata": {
    "colab": {
      "provenance": []
    },
    "kernelspec": {
      "name": "python3",
      "display_name": "Python 3"
    },
    "language_info": {
      "name": "python"
    }
  },
  "cells": [
    {
      "cell_type": "code",
      "execution_count": 1,
      "metadata": {
        "id": "9j5QuDbJF-vA"
      },
      "outputs": [],
      "source": [
        "# Polymorphism =>  Polymorphism in Python allows you to use a common interface (like a method name) to interact with objects of different types, and each object will execute that method in its own unique way."
      ]
    },
    {
      "cell_type": "code",
      "source": [
        "class Employee:\n",
        "  def info(self):\n",
        "    print(\"this is info function\")"
      ],
      "metadata": {
        "id": "BGsxfMZPGH5B"
      },
      "execution_count": 2,
      "outputs": []
    },
    {
      "cell_type": "code",
      "source": [
        "class Employeehabit:\n",
        "  def info(self):\n",
        "    print(\"info inside the habit class\")\n",
        "\n",
        "\n",
        "eh1=Employeehabit()\n",
        "eh1.info()"
      ],
      "metadata": {
        "colab": {
          "base_uri": "https://localhost:8080/"
        },
        "id": "QUdhUBRmGH29",
        "outputId": "2016c9a3-6797-44e9-c2a0-4a0a164169d1"
      },
      "execution_count": 3,
      "outputs": [
        {
          "output_type": "stream",
          "name": "stdout",
          "text": [
            "info inside the habit class\n"
          ]
        }
      ]
    },
    {
      "cell_type": "code",
      "source": [
        "class Employee:\n",
        "  def info(self,x):\n",
        "    print(\"this is info function\",x)\n",
        "\n",
        "  def info2(self,x,y):\n",
        "    print(\"this is second info function\",x,y)\n",
        "\n",
        "# e.info(10,20)"
      ],
      "metadata": {
        "id": "eQED8OXfGH0z"
      },
      "execution_count": 4,
      "outputs": []
    },
    {
      "cell_type": "code",
      "source": [
        "class Employee:\n",
        "  def __init__(self,id,name,email):\n",
        "    self.id=id\n",
        "    self.name=name\n",
        "    self.email=email"
      ],
      "metadata": {
        "id": "EdQ5EdLrGHyn"
      },
      "execution_count": 5,
      "outputs": []
    },
    {
      "cell_type": "code",
      "source": [
        "class Customer:\n",
        "  def __init__(self,cid,name,email):\n",
        "    self.id=id\n",
        "    self.name=name\n",
        "    self.email=email\n",
        "\n",
        "  def info(self):\n",
        "    print(f\"Employee class has {self.id}, {self.name}\")"
      ],
      "metadata": {
        "id": "l4Tq0Y6xGHwV"
      },
      "execution_count": 6,
      "outputs": []
    },
    {
      "cell_type": "code",
      "source": [
        "class Customer(Employee):\n",
        "  def __init__(self, cid, cname, cemail, wallet):\n",
        "    super().__init__(cid, cname, cemail)\n",
        "    self.wallet=wallet\n",
        "\n",
        "  def info(self):\n",
        "    print(f\"Customer class has {self.id} & {self.name}\")\n",
        "\n",
        "\n",
        "c1=Customer(100,\"piyush\",\"piyush@gmail.com\",1000)\n",
        "c1.info()"
      ],
      "metadata": {
        "colab": {
          "base_uri": "https://localhost:8080/"
        },
        "id": "z4z5NqUaGHt6",
        "outputId": "76ab2d9f-86a1-4555-8c55-9d594f312907"
      },
      "execution_count": 7,
      "outputs": [
        {
          "output_type": "stream",
          "name": "stdout",
          "text": [
            "Customer class has 100 & piyush\n"
          ]
        }
      ]
    },
    {
      "cell_type": "code",
      "source": [
        "class addno:\n",
        "  def __init__(self,num1,num2):\n",
        "    self.num1=num1\n",
        "    self.num2=num2\n",
        "\n",
        "  def __add__(self,x):\n",
        "    print(\"Calling + on a1 and a2\",x)\n",
        "\n",
        "\n",
        "a1=addno(10,20)\n",
        "a2=addno(100,400)"
      ],
      "metadata": {
        "id": "tPFYsDRKGHra"
      },
      "execution_count": 8,
      "outputs": []
    },
    {
      "cell_type": "code",
      "source": [
        "a1+a2\n",
        "# a1.__add__()\n",
        "# operator overload __add__\n",
        "# - __sub__ > __gt__\n"
      ],
      "metadata": {
        "colab": {
          "base_uri": "https://localhost:8080/"
        },
        "id": "UqA6m9gjGPf_",
        "outputId": "82220a8e-4297-4780-94a6-20b8566cedf1"
      },
      "execution_count": 9,
      "outputs": [
        {
          "output_type": "stream",
          "name": "stdout",
          "text": [
            "Calling + on a1 and a2 <__main__.addno object at 0x7c21aad04790>\n"
          ]
        }
      ]
    },
    {
      "cell_type": "code",
      "source": [
        "# Public,  Protected\n",
        "# Public => Access class, same package\n",
        "# Private => Inside the class\n",
        "# Protected => Variable can be access but using package\n",
        "# default => package Protected => same  package"
      ],
      "metadata": {
        "id": "GQP2qWeNGPdx"
      },
      "execution_count": 10,
      "outputs": []
    },
    {
      "cell_type": "code",
      "source": [
        "class A:\n",
        "  _amount=1000    # Act as protected"
      ],
      "metadata": {
        "id": "cRGFcQ6FGPbc"
      },
      "execution_count": 11,
      "outputs": []
    },
    {
      "cell_type": "code",
      "source": [
        "class A:\n",
        "  _amount=1000\n",
        "  __balance=5000      #Private Vaiable\n",
        "\n",
        "a1=A()\n",
        "a1._A__balance"
      ],
      "metadata": {
        "colab": {
          "base_uri": "https://localhost:8080/"
        },
        "id": "UK3HrZttGVMz",
        "outputId": "469c0f4c-fe48-4888-a990-3203a9fcab6c"
      },
      "execution_count": 12,
      "outputs": [
        {
          "output_type": "execute_result",
          "data": {
            "text/plain": [
              "5000"
            ]
          },
          "metadata": {},
          "execution_count": 12
        }
      ]
    }
  ]
}