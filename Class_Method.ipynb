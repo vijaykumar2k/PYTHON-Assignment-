{
  "nbformat": 4,
  "nbformat_minor": 0,
  "metadata": {
    "colab": {
      "provenance": []
    },
    "kernelspec": {
      "name": "python3",
      "display_name": "Python 3"
    },
    "language_info": {
      "name": "python"
    }
  },
  "cells": [
    {
      "cell_type": "code",
      "source": [
        "# Class Method , Instance Method And Static Method\n",
        "# Class method     => A class method is a method connected to the class that can access or change class-level variables using the `cls` parameter.\n",
        "# Instance Method  => An instance method is a function defined in a class that can access both instance and class variables, but it can only modify instance variables by default.\n",
        "# Static Method    => A static method is a regular method inside a class that does not have access to instance (self) or class (cls) variables."
      ],
      "metadata": {
        "id": "0Uf2Bb5b1Dsq"
      },
      "execution_count": null,
      "outputs": []
    },
    {
      "cell_type": "code",
      "source": [
        "class A:\n",
        "  dept =\"HR\"                  # class variable\n",
        "  def __init__(self, age):\n",
        "    self.age=age              # Instance Variable\n",
        "\n",
        "  def userinfo(self):           # self => Instance Method have self as first parameter\n",
        "    self.age=500\n",
        "    self.dept=\"marketing\"\n",
        "    print(\"Instance Method\",self.age, self.dept)\n"
      ],
      "metadata": {
        "id": "vCCd64Vo3QUt"
      },
      "execution_count": null,
      "outputs": []
    },
    {
      "cell_type": "code",
      "source": [
        "a1=A(1000)\n",
        "a1.userinfo()\n",
        "a2=A(600)\n",
        "a2.dept"
      ],
      "metadata": {
        "id": "tQgiY_LR2ol7",
        "colab": {
          "base_uri": "https://localhost:8080/",
          "height": 53
        },
        "outputId": "48a97a4b-09b2-4ddd-fb17-24909cb5e507"
      },
      "execution_count": null,
      "outputs": [
        {
          "output_type": "stream",
          "name": "stdout",
          "text": [
            "Instance Method 500 marketing\n"
          ]
        },
        {
          "output_type": "execute_result",
          "data": {
            "text/plain": [
              "'HR'"
            ],
            "application/vnd.google.colaboratory.intrinsic+json": {
              "type": "string"
            }
          },
          "metadata": {},
          "execution_count": 9
        }
      ]
    },
    {
      "cell_type": "code",
      "source": [
        "class A:\n",
        "  dept =\"HR\"                  # class variable\n",
        "  def __init__(self, age):\n",
        "    self.age=age              # Instance Variable\n",
        "\n",
        "  def userinfo(self):           # self => Instance Method have self as first parameter\n",
        "    self.age=500\n",
        "    self.dept=\"marketing\"\n",
        "    print(\"Instance Method\",self.age, self.dept)\n",
        "\n",
        "  @staticmethod                 #decator\n",
        "  def adddata(salary):\n",
        "    print(\"salary\", salary*1.1)\n"
      ],
      "metadata": {
        "id": "ryutVjxU6hS1"
      },
      "execution_count": null,
      "outputs": []
    },
    {
      "cell_type": "code",
      "source": [
        "a1=A(1000)\n",
        "A.adddata(9000)"
      ],
      "metadata": {
        "id": "aQbSOzND6hPR",
        "colab": {
          "base_uri": "https://localhost:8080/"
        },
        "outputId": "b78d5f05-aac7-46d9-b080-cd42e5a95451"
      },
      "execution_count": null,
      "outputs": [
        {
          "output_type": "stream",
          "name": "stdout",
          "text": [
            "salary 9900.0\n"
          ]
        }
      ]
    },
    {
      "cell_type": "code",
      "source": [
        "class Dollar:\n",
        "  symbol=\"$\"\n",
        "  def __init__(self,amount):\n",
        "    self.amount=amount\n",
        "\n",
        "  @classmethod\n",
        "  def totalAmount(cls):\n",
        "    print(f\" {cls} class has amount, {cls.symbol}\")"
      ],
      "metadata": {
        "id": "CtFs_iw_6hNN"
      },
      "execution_count": null,
      "outputs": []
    },
    {
      "cell_type": "code",
      "source": [
        "d1=Dollar(99)\n",
        "d1.totalAmount()"
      ],
      "metadata": {
        "colab": {
          "base_uri": "https://localhost:8080/"
        },
        "id": "q1euEIGCC3yP",
        "outputId": "cd84d46c-0b43-4246-db4b-3dbbaf8a3774"
      },
      "execution_count": null,
      "outputs": [
        {
          "output_type": "stream",
          "name": "stdout",
          "text": [
            " <class '__main__.Dollar'> class has amount, $\n"
          ]
        }
      ]
    },
    {
      "cell_type": "code",
      "source": [
        "class Euro(Dollar):\n",
        "  symbol=\"$$\"\n",
        "  def __init__(self,x):\n",
        "    super().__init__(x)\n",
        "\n",
        "  def info(self):\n",
        "    super().totalAmount()"
      ],
      "metadata": {
        "id": "h9e0Q2JzBbML"
      },
      "execution_count": null,
      "outputs": []
    },
    {
      "cell_type": "code",
      "source": [
        "e1=Euro(10)\n",
        "e1.info()"
      ],
      "metadata": {
        "id": "_Wa_RgHk-uFs",
        "colab": {
          "base_uri": "https://localhost:8080/"
        },
        "outputId": "c0f829ac-c1fd-4580-debf-ea1ff5d75e88"
      },
      "execution_count": null,
      "outputs": [
        {
          "output_type": "stream",
          "name": "stdout",
          "text": [
            " <class '__main__.Euro'> class has amount, $$\n"
          ]
        }
      ]
    },
    {
      "cell_type": "code",
      "source": [
        "class Dollar:\n",
        "  def __init__(self,amount):\n",
        "    self.amount=amount\n",
        "\n",
        "  def __repr__(self):\n",
        "    return f\"Dollar class has amount value => {self.amount}\""
      ],
      "metadata": {
        "id": "VVqaTzOpBOvR"
      },
      "execution_count": null,
      "outputs": []
    },
    {
      "cell_type": "code",
      "source": [
        "d1=Dollar(100)\n",
        "print(d1)"
      ],
      "metadata": {
        "colab": {
          "base_uri": "https://localhost:8080/"
        },
        "id": "Dz8V8KHtEocC",
        "outputId": "d4502ff1-3ffe-48b4-ae9d-e3257fe42c0e"
      },
      "execution_count": null,
      "outputs": [
        {
          "output_type": "stream",
          "name": "stdout",
          "text": [
            "<__main__.Dollar object at 0x79e103bd3ed0>\n"
          ]
        }
      ]
    },
    {
      "cell_type": "code",
      "source": [
        "# Generators\n",
        "\n",
        "# A generator is a function that uses the yield keyword to return values one at a time,\n",
        "# suspending and resuming its state between each call."
      ],
      "metadata": {
        "id": "eB0trFT89uyO"
      },
      "execution_count": null,
      "outputs": []
    },
    {
      "cell_type": "code",
      "source": [
        "def func(num):\n",
        "  print(\"first liner\")\n",
        "  yield 1\n",
        "  print (\"hey\")\n",
        "  yield 2"
      ],
      "metadata": {
        "id": "2XXaC3Ww9xDk"
      },
      "execution_count": null,
      "outputs": []
    },
    {
      "cell_type": "code",
      "source": [
        "x=func(10)\n",
        "print(next (x) )"
      ],
      "metadata": {
        "colab": {
          "base_uri": "https://localhost:8080/"
        },
        "id": "IXO6wTbg-EWF",
        "outputId": "ee266511-b9b3-4fc7-91cc-59984904406f"
      },
      "execution_count": null,
      "outputs": [
        {
          "output_type": "stream",
          "name": "stdout",
          "text": [
            "first liner\n",
            "1\n"
          ]
        }
      ]
    },
    {
      "cell_type": "code",
      "source": [
        "next(x)"
      ],
      "metadata": {
        "colab": {
          "base_uri": "https://localhost:8080/"
        },
        "id": "UtfcJ3ZF-EUj",
        "outputId": "15f8abb3-6498-4e58-eab4-3b892f9d458d"
      },
      "execution_count": null,
      "outputs": [
        {
          "output_type": "stream",
          "name": "stdout",
          "text": [
            "hey\n"
          ]
        },
        {
          "output_type": "execute_result",
          "data": {
            "text/plain": [
              "2"
            ]
          },
          "metadata": {},
          "execution_count": 8
        }
      ]
    },
    {
      "cell_type": "code",
      "source": [
        "def fib(n):\n",
        "    a = 0\n",
        "    b = 1\n",
        "    for __ in range(n):\n",
        "        yield a\n",
        "        a, b = b, a + b\n",
        "\n",
        "for i in fib(10):\n",
        "    print(i)\n"
      ],
      "metadata": {
        "colab": {
          "base_uri": "https://localhost:8080/"
        },
        "id": "6KZv5Qfj_xMs",
        "outputId": "c0612540-0fd4-4752-fa1a-3e1d48cb2cd2"
      },
      "execution_count": null,
      "outputs": [
        {
          "output_type": "stream",
          "name": "stdout",
          "text": [
            "0\n",
            "1\n",
            "1\n",
            "2\n",
            "3\n",
            "5\n",
            "8\n",
            "13\n",
            "21\n",
            "34\n"
          ]
        }
      ]
    },
    {
      "cell_type": "code",
      "source": [
        "# close() is used to stop a generator manually, and it raises StopIteration if you try to continue it.\n",
        "# send() : Send(value) resumes the generator and sends a value into the yield expression inside it."
      ],
      "metadata": {
        "id": "yh2I5giV_xB3"
      },
      "execution_count": null,
      "outputs": []
    },
    {
      "cell_type": "code",
      "source": [
        "def func(num):\n",
        "    print(\"first liner\")\n",
        "    x = yield 1\n",
        "    print(\"Got from send():\", x)\n",
        "    yield 2\n",
        "\n",
        "g = func(5)\n"
      ],
      "metadata": {
        "id": "MvtPt2UMCsUl"
      },
      "execution_count": null,
      "outputs": []
    },
    {
      "cell_type": "code",
      "source": [
        "print(next(g))        # Output: first liner → 1\n",
        "print(g.send(\"Hello\"))  # Output: Got from send(): Hello → 2\n",
        "g.close()"
      ],
      "metadata": {
        "colab": {
          "base_uri": "https://localhost:8080/"
        },
        "id": "pavYn-qqCsSZ",
        "outputId": "149fc1a3-d42c-450d-bd7e-e9f4fda31ab5"
      },
      "execution_count": null,
      "outputs": [
        {
          "output_type": "stream",
          "name": "stdout",
          "text": [
            "first liner\n",
            "1\n",
            "Got from send(): Hello\n",
            "2\n"
          ]
        }
      ]
    },
    {
      "cell_type": "code",
      "source": [
        "def func(num):\n",
        "  print(\"first liner\")\n",
        "  i=0\n",
        "  while(i<5):\n",
        "    print(\"hey\",1)\n",
        "    i+=1\n",
        "  yield \"ABC\""
      ],
      "metadata": {
        "id": "rpof2Z8KCtBj"
      },
      "execution_count": null,
      "outputs": []
    },
    {
      "cell_type": "code",
      "source": [
        "gen=func(10)\n",
        "for i in gen:\n",
        "  print(i)"
      ],
      "metadata": {
        "colab": {
          "base_uri": "https://localhost:8080/"
        },
        "id": "_F4oCYrQCs8v",
        "outputId": "7076146a-2764-443e-a2f8-a264ed263209"
      },
      "execution_count": null,
      "outputs": [
        {
          "output_type": "stream",
          "name": "stdout",
          "text": [
            "first liner\n",
            "hey 1\n",
            "hey 1\n",
            "hey 1\n",
            "hey 1\n",
            "hey 1\n",
            "ABC\n"
          ]
        }
      ]
    },
    {
      "cell_type": "code",
      "source": [
        "# Map , Filter => High Order Function"
      ],
      "metadata": {
        "id": "FFdHPqZ4FbAq"
      },
      "execution_count": null,
      "outputs": []
    },
    {
      "cell_type": "code",
      "source": [
        "y=map( lambda x: x**2, [25,14,63,1])\n",
        "next(y)"
      ],
      "metadata": {
        "colab": {
          "base_uri": "https://localhost:8080/"
        },
        "id": "YEymkBAsFhlg",
        "outputId": "c839473c-9886-44aa-c008-057193f40453"
      },
      "execution_count": null,
      "outputs": [
        {
          "output_type": "execute_result",
          "data": {
            "text/plain": [
              "625"
            ]
          },
          "metadata": {},
          "execution_count": 40
        }
      ]
    },
    {
      "cell_type": "code",
      "source": [
        "y=map( lambda x: x%2, [25,14,63,1])\n",
        "list(y)"
      ],
      "metadata": {
        "colab": {
          "base_uri": "https://localhost:8080/"
        },
        "id": "m1QHie4YFhjq",
        "outputId": "21e12820-6539-4f47-bb7f-f88b2b8ab92a"
      },
      "execution_count": null,
      "outputs": [
        {
          "output_type": "execute_result",
          "data": {
            "text/plain": [
              "[1, 0, 1, 1]"
            ]
          },
          "metadata": {},
          "execution_count": 45
        }
      ]
    },
    {
      "cell_type": "code",
      "source": [
        "dir([10])"
      ],
      "metadata": {
        "id": "gMHhRyjcFhfM",
        "colab": {
          "base_uri": "https://localhost:8080/"
        },
        "outputId": "06f007c3-df17-4dd6-bf9a-a216dc2eed80"
      },
      "execution_count": null,
      "outputs": [
        {
          "output_type": "execute_result",
          "data": {
            "text/plain": [
              "['__add__',\n",
              " '__class__',\n",
              " '__class_getitem__',\n",
              " '__contains__',\n",
              " '__delattr__',\n",
              " '__delitem__',\n",
              " '__dir__',\n",
              " '__doc__',\n",
              " '__eq__',\n",
              " '__format__',\n",
              " '__ge__',\n",
              " '__getattribute__',\n",
              " '__getitem__',\n",
              " '__getstate__',\n",
              " '__gt__',\n",
              " '__hash__',\n",
              " '__iadd__',\n",
              " '__imul__',\n",
              " '__init__',\n",
              " '__init_subclass__',\n",
              " '__iter__',\n",
              " '__le__',\n",
              " '__len__',\n",
              " '__lt__',\n",
              " '__mul__',\n",
              " '__ne__',\n",
              " '__new__',\n",
              " '__reduce__',\n",
              " '__reduce_ex__',\n",
              " '__repr__',\n",
              " '__reversed__',\n",
              " '__rmul__',\n",
              " '__setattr__',\n",
              " '__setitem__',\n",
              " '__sizeof__',\n",
              " '__str__',\n",
              " '__subclasshook__',\n",
              " 'append',\n",
              " 'clear',\n",
              " 'copy',\n",
              " 'count',\n",
              " 'extend',\n",
              " 'index',\n",
              " 'insert',\n",
              " 'pop',\n",
              " 'remove',\n",
              " 'reverse',\n",
              " 'sort']"
            ]
          },
          "metadata": {},
          "execution_count": 48
        }
      ]
    },
    {
      "cell_type": "code",
      "source": [
        "y=map( lambda x: x%2==0, [25,14,63,1])\n",
        "list(y)"
      ],
      "metadata": {
        "colab": {
          "base_uri": "https://localhost:8080/"
        },
        "id": "R_GKqCeGKWaS",
        "outputId": "c9f996a7-dc00-4472-f1cb-90d2ad6ccd0f"
      },
      "execution_count": null,
      "outputs": [
        {
          "output_type": "execute_result",
          "data": {
            "text/plain": [
              "[False, True, False, False]"
            ]
          },
          "metadata": {},
          "execution_count": 49
        }
      ]
    },
    {
      "cell_type": "code",
      "source": [
        "y=filter( lambda x: x%2==0, [25,14,63,1])\n",
        "list(y)"
      ],
      "metadata": {
        "colab": {
          "base_uri": "https://localhost:8080/"
        },
        "id": "CUbBRMcIKWXw",
        "outputId": "df0dde61-94eb-4c52-f77e-1d4042305985"
      },
      "execution_count": null,
      "outputs": [
        {
          "output_type": "execute_result",
          "data": {
            "text/plain": [
              "[14]"
            ]
          },
          "metadata": {},
          "execution_count": 51
        }
      ]
    }
  ]
}