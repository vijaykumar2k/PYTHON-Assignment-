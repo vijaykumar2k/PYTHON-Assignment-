{
  "nbformat": 4,
  "nbformat_minor": 0,
  "metadata": {
    "colab": {
      "provenance": []
    },
    "kernelspec": {
      "name": "python3",
      "display_name": "Python 3"
    },
    "language_info": {
      "name": "python"
    }
  },
  "cells": [
    {
      "cell_type": "code",
      "source": [
        "# Inheritance =>\n",
        "# Class A : variable / method  [Parent Class / Super / Base]\n",
        "# Class B : [Child Class / Sub Class / Derieved]"
      ],
      "metadata": {
        "id": "py8QFxfOGMOG"
      },
      "execution_count": null,
      "outputs": []
    },
    {
      "cell_type": "code",
      "source": [
        "class Vehicle:\n",
        "  company=\"BMW\"\n",
        "  def info(self):\n",
        "    print(\"Vehicle Class info function\")\n",
        "\n",
        "class BMW_EV(Vehicle):\n",
        "  price=40000000\n",
        "  def binfo(self):\n",
        "    super().info()\n",
        "\n",
        "me1=BMW_EV()\n",
        "print(me1.price, me1.company)\n",
        "me1.binfo()"
      ],
      "metadata": {
        "id": "u_OVOIjsHDuF",
        "colab": {
          "base_uri": "https://localhost:8080/"
        },
        "outputId": "f80fb345-7f52-4cc3-c469-9350f10aee24"
      },
      "execution_count": null,
      "outputs": [
        {
          "output_type": "stream",
          "name": "stdout",
          "text": [
            "40000000 BMW\n",
            "Vehicle Class info function\n"
          ]
        }
      ]
    },
    {
      "cell_type": "code",
      "source": [
        "class Vehicle:\n",
        "  company=\"BMW\"\n",
        "  def info(self):\n",
        "    print(\"Vehicle Class info function\")\n",
        "\n",
        "class BMW_EV(Vehicle):\n",
        "  price=40000000\n",
        "  def binfo(self):\n",
        "    super().info()\n",
        "\n",
        "me1=BMW_EV()\n",
        "print(me1.price, me1.company)\n",
        "me1.binfo()"
      ],
      "metadata": {
        "colab": {
          "base_uri": "https://localhost:8080/"
        },
        "id": "LTZPni9JIpNE",
        "outputId": "07983f37-175c-4a84-a8be-3d6b3e1d5c26"
      },
      "execution_count": null,
      "outputs": [
        {
          "output_type": "stream",
          "name": "stdout",
          "text": [
            "40000000 BMW\n",
            "Vehicle Class info function\n"
          ]
        }
      ]
    },
    {
      "cell_type": "code",
      "source": [
        "class Vehicle:\n",
        "  company=\"BMW\"\n",
        "  def info(self):\n",
        "    print(\"Vehicle Class info function\")\n",
        "\n",
        "class BMW_EV(Vehicle):\n",
        "  price=40000000\n",
        "  def binfo(self):\n",
        "    super().info()\n",
        "\n",
        "me1=BMW_EV()\n",
        "print(me1.price, me1.company)\n",
        "me1.binfo()"
      ],
      "metadata": {
        "id": "YLVwH1_jKftA",
        "colab": {
          "base_uri": "https://localhost:8080/"
        },
        "outputId": "f92e0565-6b25-46df-f27c-639d971a8d4f"
      },
      "execution_count": null,
      "outputs": [
        {
          "output_type": "stream",
          "name": "stdout",
          "text": [
            "40000000 BMW\n",
            "Vehicle Class info function\n"
          ]
        }
      ]
    },
    {
      "cell_type": "code",
      "source": [
        "c1=ChildTataEV(9810, \"Punch EV\")\n",
        "c1.mid"
      ],
      "metadata": {
        "colab": {
          "base_uri": "https://localhost:8080/"
        },
        "id": "2u6VNogZLAry",
        "outputId": "894c9e72-0aeb-4398-c5ca-aa93c1ce3238"
      },
      "execution_count": null,
      "outputs": [
        {
          "output_type": "execute_result",
          "data": {
            "text/plain": [
              "9810"
            ]
          },
          "metadata": {},
          "execution_count": 8
        }
      ]
    },
    {
      "cell_type": "code",
      "source": [
        "class ParentTATA:\n",
        "  company = \"TATA MOTORS\"\n",
        "  def __init__(self, mid, name):\n",
        "    self.mid=mid\n",
        "    self.name=name\n",
        "\n",
        "class ChildTataEV(ParentTATA):\n",
        "  def __init__(self, a, b):\n",
        "    super().__init__(a,b)\n",
        "\n",
        "  def info(self):\n",
        "    print(\"Child Class\", self.mid, self.name)\n",
        "\n",
        "  def choice(self):\n",
        "    self.info()"
      ],
      "metadata": {
        "id": "bBvZkHULFLEK"
      },
      "execution_count": null,
      "outputs": []
    },
    {
      "cell_type": "code",
      "source": [
        "c1=ChildTataEV(9810, \"Punch EV\")\n",
        "c1.choice()"
      ],
      "metadata": {
        "colab": {
          "base_uri": "https://localhost:8080/"
        },
        "id": "8-ZQiSUZFLCf",
        "outputId": "7bed0ae5-9f08-4a3e-9850-4034826aeaef"
      },
      "execution_count": null,
      "outputs": [
        {
          "output_type": "stream",
          "name": "stdout",
          "text": [
            "Child Class 9810 Punch EV\n"
          ]
        }
      ]
    }
  ]
}