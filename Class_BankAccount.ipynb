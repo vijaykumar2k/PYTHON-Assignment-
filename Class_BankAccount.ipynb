{
  "nbformat": 4,
  "nbformat_minor": 0,
  "metadata": {
    "colab": {
      "provenance": []
    },
    "kernelspec": {
      "name": "python3",
      "display_name": "Python 3"
    },
    "language_info": {
      "name": "python"
    }
  },
  "cells": [
    {
      "cell_type": "code",
      "execution_count": null,
      "metadata": {
        "id": "cwUdJudpV7Ew"
      },
      "outputs": [],
      "source": [
        "# Banking Management System with python\n",
        "# Class BankAccount"
      ]
    },
    {
      "cell_type": "code",
      "source": [
        "class BankAccountOpen:\n",
        "  def __init__(self, accountno, accountName, balance=0, interest=1):\n",
        "    self.accountno = accountno\n",
        "    self.accountName = accountName\n",
        "    self.__balance = balance\n",
        "    self.interest = interest\n",
        "\n",
        "  def deposit(self,amount):\n",
        "    if(amount>0):\n",
        "      self.__balance+=amount\n",
        "    else:\n",
        "      print(\"Amount is less than zero or negative\")\n",
        "\n",
        "  def withdraw(self,amount):\n",
        "    self.__balance-=amount\n",
        "\n",
        "  @property\n",
        "  def showamount(self):\n",
        "    return self.__balance\n",
        "\n",
        "  def interest_apply(self):\n",
        "    self.__balance += ( (self.interest * self.__balance)/100)\n",
        "    return self.__balance"
      ],
      "metadata": {
        "id": "uZ5jzghJWQh9"
      },
      "execution_count": 42,
      "outputs": []
    },
    {
      "cell_type": "code",
      "source": [
        "class SavingAccount(BankAccountOpen):\n",
        "  def __init__(self,accountno, accountName, balance):\n",
        "    if(balance>1000):\n",
        "      super().__init__(accountno, accountName, balance)\n",
        "    else:\n",
        "      print(\"You dont to open a saving account\")"
      ],
      "metadata": {
        "id": "hj6r3PGTYrK0"
      },
      "execution_count": 36,
      "outputs": []
    },
    {
      "cell_type": "code",
      "source": [
        "b1=BankAccountOpen(10045,\"yash\",50,15)\n",
        "b1.interest_apply()"
      ],
      "metadata": {
        "colab": {
          "base_uri": "https://localhost:8080/"
        },
        "id": "lnXpr-nFWnX1",
        "outputId": "4ce6843c-113d-4ead-ae3d-1e14f3201915"
      },
      "execution_count": 43,
      "outputs": [
        {
          "output_type": "execute_result",
          "data": {
            "text/plain": [
              "57.5"
            ]
          },
          "metadata": {},
          "execution_count": 43
        }
      ]
    },
    {
      "cell_type": "code",
      "source": [
        "sa1=SavingAccount(67890,\"ishaan\",5000)\n",
        "sa1.deposit(2000)\n",
        "sa1.showamount"
      ],
      "metadata": {
        "id": "oRUUMv9fWnUS",
        "colab": {
          "base_uri": "https://localhost:8080/"
        },
        "outputId": "0484af4c-4b02-41e9-9e1a-6f7472c5c267"
      },
      "execution_count": 40,
      "outputs": [
        {
          "output_type": "execute_result",
          "data": {
            "text/plain": [
              "7000"
            ]
          },
          "metadata": {},
          "execution_count": 40
        }
      ]
    },
    {
      "cell_type": "code",
      "source": [],
      "metadata": {
        "id": "A8Y8X7lqWnR4"
      },
      "execution_count": null,
      "outputs": []
    }
  ]
}